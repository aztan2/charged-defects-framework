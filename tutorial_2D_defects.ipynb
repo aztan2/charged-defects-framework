{
 "cells": [
  {
   "cell_type": "markdown",
   "metadata": {},
   "source": [
    "# Calculations of charged defects in 2D materials\n",
    "a tutorial by Anne Marie Tan"
   ]
  },
  {
   "cell_type": "markdown",
   "metadata": {},
   "source": [
    "Some things to note before we get started:\n",
    "* Download the python scripts from https://github.com/aztan2/charged-defects-framework and place them in the same directory as this notebook on hipergator.\n",
    "* You will need to launch this notebook from a virtual environment on hipergator in which you have installed python packages like numpy, matplotlib, pymatgen, pandas (+openpyxl), nglview (if you want to use the built-in crystal viewer), and of course jupyterlab.\n",
    "* Follow the instructions under the section \"Standalone Jupyter Notebook\" at https://help.rc.ufl.edu/doc/Remote_Jupyter_Notebook to start a Jupyter notebook within a SLURM job on hipergator and connect to it from the web browser running on your local computer.\n",
    "* For the purpose of this tutorial, I will try to keep everything self-contained by executing all commands within python, including navigating directories, executing python scripts, etc. \\\n",
    "However, when you actually apply this to a new system, you will probably find it easier to do some of these directly from command line. \\\n",
    "Hence, I will also include as comments the corresponding bash commands to perform certain steps.\n",
    "* Please go through the tutorial **\"Calculating structure and properties of pristine 2D materials\"** before starting on this tutorial."
   ]
  },
  {
   "cell_type": "markdown",
   "metadata": {},
   "source": [
    "The main quantity that we’re interested in calculating is the defect formation energy $E^f[X^q]$, which we can compute in DFT using the supercell approach and the following equation:\n",
    "\n",
    "<div>\n",
    "<img src=\"tutorial_images/eqn_Eform.png\" width=\"400\"/>\n",
    "</div>\n",
    "\n",
    "where $E_{\\textrm{tot}}[X^q]$ and $E_{\\textrm{tot}}[\\textrm{pristine}]$ are the total DFT-derived energies of the supercell containing the defect $X$ and the pristine supercell respectively, $n_i$ is the number of atoms of species $i$ added/removed by the defect, $\\mu_i$ is the corresponding chemical potential of the species, and $E_{\\textrm{F}}$ is the Fermi energy. \n",
    "The final term $E_{\\textrm{corr}}$ contains corrections to the formation energy due to electrostatic interactions with periodic images and the implicit compensating background charges which are introduced in supercell calculations using plane-wave DFT approaches. We will evaluate this term using the method developed by [Freysoldt and Neugebauer](https://doi.org/10.1103/PhysRevB.97.205425).\n",
    "\n",
    "(This tutorial is meant to focus on how to perform the calculations and corrections, hence I will no go into detail about the theory here. You are recommended to read up on your own about (1) the origin of the artefacts that we need to correct for, and (2) how this correction scheme works.)"
   ]
  },
  {
   "cell_type": "markdown",
   "metadata": {},
   "source": [
    "Based on the equation above, the DFT calculations that are required to compute the formation energy are:\n",
    "* $E_{\\textrm{tot}}[\\textrm{pristine}]$\n",
    "* $E_{\\textrm{tot}}[X^q]$ for every defect of interest $X$ in different charge states $q$\n",
    "* the relevant $\\mu_i$\n",
    "\n",
    "So let's get started!"
   ]
  },
  {
   "cell_type": "code",
   "execution_count": 1,
   "metadata": {},
   "outputs": [],
   "source": [
    "import os\n",
    "import sys\n",
    "import importlib\n",
    "import pymatgen"
   ]
  },
  {
   "cell_type": "code",
   "execution_count": 2,
   "metadata": {},
   "outputs": [],
   "source": [
    "import setup_defects\n",
    "import parse_energies\n",
    "\n",
    "#importlib.reload(myutils)"
   ]
  },
  {
   "cell_type": "markdown",
   "metadata": {},
   "source": [
    "### 0.      Determine equilibrium lattice constants:"
   ]
  },
  {
   "cell_type": "markdown",
   "metadata": {},
   "source": [
    "For the defect calculations, we will fix the lattice parameters and only relax the atom positions. This ensures that we have a consistent reference for all our calculations (with/without defects) and models the system in which the defect concentration is in the dilute limit."
   ]
  },
  {
   "cell_type": "markdown",
   "metadata": {},
   "source": [
    "* Based on the pristine unit cell calculations you did in the **\"Calculating structure and properties of pristine 2D materials\"** tutorial, estimate the converged values of the in-plane lattice parameter(s). It should be around 3.18 Å for monolayer MoS$_2$ evaluated with PBE."
   ]
  },
  {
   "cell_type": "markdown",
   "metadata": {},
   "source": [
    "* Prepare a set of unit cell POSCARS with these lattice constants at different vacuum spacings (e.g. 10, 15, 20 Å). You can do this by just slightly modifying the lattice vectors at the top of your existing corresponding unit cell POSCARs. Name each of the new POSCARs `POSCAR_vac_<vacuum spacing>` (this naming convention is important!)."
   ]
  },
  {
   "cell_type": "markdown",
   "metadata": {},
   "source": [
    "### 1.      Total energy of a pristine supercell:"
   ]
  },
  {
   "cell_type": "markdown",
   "metadata": {},
   "source": [
    "This calculation is pretty straightforward. In fact, haven’t we already computed the energy of the pristine monolayer in the previous tutorial? Why do we need to do it again? \n",
    "\n",
    "While it is true that we could simply compute the total energy of a pristine supercell by multiplying the energy of a pristine unit cell accordingly, our later calculations will also require the potential (LOCPOT) of the pristine supercell, so we still need to perform the pristine supercell calculation anyway."
   ]
  },
  {
   "cell_type": "markdown",
   "metadata": {},
   "source": [
    "* Create a new directory for this set of calculations. Let's assume I've named it `pristineref`."
   ]
  },
  {
   "cell_type": "code",
   "execution_count": 3,
   "metadata": {},
   "outputs": [
    {
     "name": "stdout",
     "output_type": "stream",
     "text": [
      "/ufrc/hennig/annemarietan/test/MoS2\n",
      "mkdir: cannot create directory ‘pristineref’: File exists\r\n"
     ]
    }
   ],
   "source": [
    "%cd /ufrc/hennig/annemarietan/test/MoS2\n",
    "%mkdir pristineref"
   ]
  },
  {
   "cell_type": "markdown",
   "metadata": {},
   "source": [
    "* Copy the POSCARs you made in Step 0 into this directory"
   ]
  },
  {
   "cell_type": "code",
   "execution_count": 4,
   "metadata": {},
   "outputs": [
    {
     "name": "stdout",
     "output_type": "stream",
     "text": [
      "/ufrc/hennig/annemarietan/test/MoS2/pristineref\n",
      "\u001b[0m\u001b[01;34mcharge_0\u001b[0m/  POSCAR_vac_10  POSCAR_vac_15  POSCAR_vac_20  POTCAR\n"
     ]
    }
   ],
   "source": [
    "%cp unitcell/POSCAR_vac_* pristineref/.\n",
    "%cd pristineref\n",
    "%ls"
   ]
  },
  {
   "cell_type": "markdown",
   "metadata": {},
   "source": [
    "* Prepare the POTCAR by concatenating the appropriate element POTCARs. \\\n",
    "In the following example, we will be creating a S vacancy in MoS$_2$, therefore we will only require the `Mo_pv` POTCAR for Mo and `S` POTCAR for S, as before. \\\n",
    "If you are introducing a dopant or impurity of a different species, you will have to concatenate the appropriate POTCAR. Remember, pymatgen orders the elements in the POSCAR by increasing electronegativity, hence the element POTCARs must be concatenated in the same order!"
   ]
  },
  {
   "cell_type": "code",
   "execution_count": 5,
   "metadata": {},
   "outputs": [
    {
     "name": "stdout",
     "output_type": "stream",
     "text": [
      "\u001b[0m\u001b[01;34mcharge_0\u001b[0m/  POSCAR_vac_10  POSCAR_vac_15  POSCAR_vac_20  POTCAR\r\n"
     ]
    }
   ],
   "source": [
    "%cat /home/annemarietan/POTCAR/POT_GGA_PAW_PBE/Mo_pv/POTCAR /home/annemarietan/POTCAR/POT_GGA_PAW_PBE/S/POTCAR > POTCAR\n",
    "%ls"
   ]
  },
  {
   "cell_type": "markdown",
   "metadata": {},
   "source": [
    "* Run the following python script to generate all the input files for our pristine supercell calculations: \\\n",
    "(run `setup_defects.main([\"--h\"])` or `python setup_defects.py --h` to see the description of the required and optional arguments for this script)"
   ]
  },
  {
   "cell_type": "code",
   "execution_count": 7,
   "metadata": {},
   "outputs": [
    {
     "name": "stdout",
     "output_type": "stream",
     "text": [
      "/ufrc/hennig/annemarietan/test/MoS2/pristineref/charge_0/3x3x1/vac_10\n",
      "ref_3x3x1_10\n",
      "/ufrc/hennig/annemarietan/test/MoS2/pristineref/charge_0/3x3x1/vac_15\n",
      "ref_3x3x1_15\n",
      "/ufrc/hennig/annemarietan/test/MoS2/pristineref/charge_0/3x3x1/vac_20\n",
      "ref_3x3x1_20\n",
      "/ufrc/hennig/annemarietan/test/MoS2/pristineref/charge_0/4x4x1/vac_10\n",
      "ref_4x4x1_10\n",
      "/ufrc/hennig/annemarietan/test/MoS2/pristineref/charge_0/4x4x1/vac_15\n",
      "ref_4x4x1_15\n",
      "/ufrc/hennig/annemarietan/test/MoS2/pristineref/charge_0/4x4x1/vac_20\n",
      "ref_4x4x1_20\n"
     ]
    }
   ],
   "source": [
    "setup_defects.main([\"/ufrc/hennig/annemarietan/test/MoS2/pristineref/\", \n",
    "                    \"--q\", \"0\", \"--cell\", \"3x3x1\", \"4x4x1\", \"--vacs\", \"10\", \"15\", \"20\", \n",
    "                    \"--kppa\", \"440\", \"--write_bulkref\"])\n",
    "## python setup_defects.py /path/to/pristineref --q 0 --cell 3x3x1 4x4x1 --vacs 10 15 20 --kppa 440 --write_bulkref"
   ]
  },
  {
   "cell_type": "markdown",
   "metadata": {},
   "source": [
    "* This should have created 6 sub-directories in the `pristineref` main directory, following the directory structure of `charge/supercell_size/vacuum_spacing`. This is the default directory structure that all my scripts have been designed to work with. Check that each sub-directory contains a POSCAR, POTCAR, INCAR, KPOINTS, and submission script."
   ]
  },
  {
   "cell_type": "code",
   "execution_count": 8,
   "metadata": {},
   "outputs": [
    {
     "name": "stdout",
     "output_type": "stream",
     "text": [
      "/ufrc/hennig/annemarietan/test/MoS2/pristineref/charge_0/3x3x1/vac_10\n",
      "INCAR  KPOINTS  POSCAR  POTCAR  submitVASP.sh\r\n"
     ]
    }
   ],
   "source": [
    "%cd charge_0/3x3x1/vac_10\n",
    "%ls"
   ]
  },
  {
   "cell_type": "markdown",
   "metadata": {},
   "source": [
    "* Submit your jobs!\\\n",
    "Note that the default in the `gen_submit.py` script is to submit to the priority queue (`hennig`). The number of cores available on the priority queue is limited and shared among everyone in the group, so you don't want to hog too many cores all at once. You may change the default in the python script or edit the submission script directly to submit to the burst queue (`hennig-b`) instead."
   ]
  },
  {
   "cell_type": "markdown",
   "metadata": {},
   "source": [
    "* When your jobs are done, what’s an easy sanity check you can do? (hint: see the discussion at the beginning of Step 1)"
   ]
  },
  {
   "cell_type": "markdown",
   "metadata": {},
   "source": [
    "### 2.      Total energy of a defected supercell:"
   ]
  },
  {
   "cell_type": "markdown",
   "metadata": {},
   "source": [
    "Finally, we get to the real meat of our calculations! \n",
    "\n",
    "Let’s first consider a simple intrinsic defect, a S vacancy in MoS$_2$."
   ]
  },
  {
   "cell_type": "markdown",
   "metadata": {},
   "source": [
    "* Create a main defect directory for this set of calculations. Let’s assume I’ve named it `Svac`."
   ]
  },
  {
   "cell_type": "code",
   "execution_count": 33,
   "metadata": {},
   "outputs": [
    {
     "name": "stdout",
     "output_type": "stream",
     "text": [
      "/ufrc/hennig/annemarietan/test/MoS2\n",
      "mkdir: cannot create directory ‘Svac’: File exists\r\n"
     ]
    }
   ],
   "source": [
    "%cd /ufrc/hennig/annemarietan/test/MoS2\n",
    "%mkdir Svac"
   ]
  },
  {
   "cell_type": "markdown",
   "metadata": {},
   "source": [
    "* Copy the same POTCAR and unit cell POSCARs as used in step 1 into this directory."
   ]
  },
  {
   "cell_type": "code",
   "execution_count": 34,
   "metadata": {},
   "outputs": [
    {
     "name": "stdout",
     "output_type": "stream",
     "text": [
      "/ufrc/hennig/annemarietan/test/MoS2/Svac\n",
      "\u001b[0m\u001b[01;34mcharge_0\u001b[0m/  \u001b[01;34mcharge_-1\u001b[0m/       POSCAR_vac_10  POSCAR_vac_20\n",
      "\u001b[01;34mcharge_1\u001b[0m/  initdefect.json  POSCAR_vac_15  POTCAR\n"
     ]
    }
   ],
   "source": [
    "%cp pristineref/PO* Svac/.\n",
    "%cd Svac\n",
    "%ls"
   ]
  },
  {
   "cell_type": "markdown",
   "metadata": {},
   "source": [
    "* We will specify the number, type, and position of the defect(s) to create in an `initdefect.json` file. \\\n",
    "For a simple vacancy, this is very straightforward. For example, to create a S vacancy by removing the S atom at the last position in the POSCAR, simply create the file with the following lines: \n",
    "\n",
    "```\n",
    "{\n",
    "\t\"def1\": {\"type\": \"vac\", \"index\": -1, \"species\": \"S\"}\n",
    "}\n",
    "```\n",
    "\n",
    "This will tell the script to remove the S atom at index -1 (in python, negative indices will count backwards from the end of the list). To learn how to specify other types of defects, please refer to [the additional document that I have to write].\n",
    "\n",
    "You can simply copy the lines above into your text editor of choice on hipergator and save the file as `initdefect.json` (the name is important!). However, in an attempt to keep this notebook as self-contained as possible, I also provide a small python script below which will do the same thing."
   ]
  },
  {
   "cell_type": "code",
   "execution_count": 23,
   "metadata": {},
   "outputs": [],
   "source": [
    "import json\n",
    "\n",
    "defects = {\"def1\":{\"type\": \"vac\", \"index\": -1, \"species\": \"S\"}}\n",
    "\n",
    "with open(\"initdefect.json\", 'w') as file:\n",
    "    file.write(json.dumps(defects,indent=4))"
   ]
  },
  {
   "cell_type": "code",
   "execution_count": 24,
   "metadata": {},
   "outputs": [
    {
     "name": "stdout",
     "output_type": "stream",
     "text": [
      "{\r\n",
      "    \"def1\": {\r\n",
      "        \"type\": \"vac\",\r\n",
      "        \"index\": -1,\r\n",
      "        \"species\": \"S\"\r\n",
      "    }\r\n",
      "}"
     ]
    }
   ],
   "source": [
    "%cat initdefect.json"
   ]
  },
  {
   "cell_type": "markdown",
   "metadata": {},
   "source": [
    "* Now, you have all you need to run the following python script to generate all the input files for our defect calculations:"
   ]
  },
  {
   "cell_type": "code",
   "execution_count": 26,
   "metadata": {},
   "outputs": [
    {
     "name": "stdout",
     "output_type": "stream",
     "text": [
      "/ufrc/hennig/annemarietan/test/MoS2/Svac/charge_0/3x3x1/vac_10\n",
      "{'type': 'vac', 'index': -1, 'species': 'S', 'index_offset_n1': 0, 'index_offset_n2': 0, 'index_offset_n1n2': 0}\n",
      "vac_S_0_3x3x1_10\n",
      "/ufrc/hennig/annemarietan/test/MoS2/Svac/charge_0/3x3x1/vac_15\n",
      "{'type': 'vac', 'index': -1, 'species': 'S', 'index_offset_n1': 0, 'index_offset_n2': 0, 'index_offset_n1n2': 0}\n",
      "vac_S_0_3x3x1_15\n",
      "/ufrc/hennig/annemarietan/test/MoS2/Svac/charge_0/3x3x1/vac_20\n",
      "{'type': 'vac', 'index': -1, 'species': 'S', 'index_offset_n1': 0, 'index_offset_n2': 0, 'index_offset_n1n2': 0}\n",
      "vac_S_0_3x3x1_20\n",
      "/ufrc/hennig/annemarietan/test/MoS2/Svac/charge_0/4x4x1/vac_10\n",
      "{'type': 'vac', 'index': -1, 'species': 'S', 'index_offset_n1': 0, 'index_offset_n2': 0, 'index_offset_n1n2': 0}\n",
      "vac_S_0_4x4x1_10\n",
      "/ufrc/hennig/annemarietan/test/MoS2/Svac/charge_0/4x4x1/vac_15\n",
      "{'type': 'vac', 'index': -1, 'species': 'S', 'index_offset_n1': 0, 'index_offset_n2': 0, 'index_offset_n1n2': 0}\n",
      "vac_S_0_4x4x1_15\n",
      "/ufrc/hennig/annemarietan/test/MoS2/Svac/charge_0/4x4x1/vac_20\n",
      "{'type': 'vac', 'index': -1, 'species': 'S', 'index_offset_n1': 0, 'index_offset_n2': 0, 'index_offset_n1n2': 0}\n",
      "vac_S_0_4x4x1_20\n",
      "/ufrc/hennig/annemarietan/test/MoS2/Svac/charge_-1/3x3x1/vac_10\n",
      "{'type': 'vac', 'index': -1, 'species': 'S', 'index_offset_n1': 0, 'index_offset_n2': 0, 'index_offset_n1n2': 0}\n",
      "vac_S_-1_3x3x1_10\n",
      "/ufrc/hennig/annemarietan/test/MoS2/Svac/charge_-1/3x3x1/vac_15\n",
      "{'type': 'vac', 'index': -1, 'species': 'S', 'index_offset_n1': 0, 'index_offset_n2': 0, 'index_offset_n1n2': 0}\n",
      "vac_S_-1_3x3x1_15\n",
      "/ufrc/hennig/annemarietan/test/MoS2/Svac/charge_-1/3x3x1/vac_20\n",
      "{'type': 'vac', 'index': -1, 'species': 'S', 'index_offset_n1': 0, 'index_offset_n2': 0, 'index_offset_n1n2': 0}\n",
      "vac_S_-1_3x3x1_20\n",
      "/ufrc/hennig/annemarietan/test/MoS2/Svac/charge_-1/4x4x1/vac_10\n",
      "{'type': 'vac', 'index': -1, 'species': 'S', 'index_offset_n1': 0, 'index_offset_n2': 0, 'index_offset_n1n2': 0}\n",
      "vac_S_-1_4x4x1_10\n",
      "/ufrc/hennig/annemarietan/test/MoS2/Svac/charge_-1/4x4x1/vac_15\n",
      "{'type': 'vac', 'index': -1, 'species': 'S', 'index_offset_n1': 0, 'index_offset_n2': 0, 'index_offset_n1n2': 0}\n",
      "vac_S_-1_4x4x1_15\n",
      "/ufrc/hennig/annemarietan/test/MoS2/Svac/charge_-1/4x4x1/vac_20\n",
      "{'type': 'vac', 'index': -1, 'species': 'S', 'index_offset_n1': 0, 'index_offset_n2': 0, 'index_offset_n1n2': 0}\n",
      "vac_S_-1_4x4x1_20\n",
      "/ufrc/hennig/annemarietan/test/MoS2/Svac/charge_1/3x3x1/vac_10\n",
      "{'type': 'vac', 'index': -1, 'species': 'S', 'index_offset_n1': 0, 'index_offset_n2': 0, 'index_offset_n1n2': 0}\n",
      "vac_S_1_3x3x1_10\n",
      "/ufrc/hennig/annemarietan/test/MoS2/Svac/charge_1/3x3x1/vac_15\n",
      "{'type': 'vac', 'index': -1, 'species': 'S', 'index_offset_n1': 0, 'index_offset_n2': 0, 'index_offset_n1n2': 0}\n",
      "vac_S_1_3x3x1_15\n",
      "/ufrc/hennig/annemarietan/test/MoS2/Svac/charge_1/3x3x1/vac_20\n",
      "{'type': 'vac', 'index': -1, 'species': 'S', 'index_offset_n1': 0, 'index_offset_n2': 0, 'index_offset_n1n2': 0}\n",
      "vac_S_1_3x3x1_20\n",
      "/ufrc/hennig/annemarietan/test/MoS2/Svac/charge_1/4x4x1/vac_10\n",
      "{'type': 'vac', 'index': -1, 'species': 'S', 'index_offset_n1': 0, 'index_offset_n2': 0, 'index_offset_n1n2': 0}\n",
      "vac_S_1_4x4x1_10\n",
      "/ufrc/hennig/annemarietan/test/MoS2/Svac/charge_1/4x4x1/vac_15\n",
      "{'type': 'vac', 'index': -1, 'species': 'S', 'index_offset_n1': 0, 'index_offset_n2': 0, 'index_offset_n1n2': 0}\n",
      "vac_S_1_4x4x1_15\n",
      "/ufrc/hennig/annemarietan/test/MoS2/Svac/charge_1/4x4x1/vac_20\n",
      "{'type': 'vac', 'index': -1, 'species': 'S', 'index_offset_n1': 0, 'index_offset_n2': 0, 'index_offset_n1n2': 0}\n",
      "vac_S_1_4x4x1_20\n"
     ]
    }
   ],
   "source": [
    "setup_defects.main([\"/ufrc/hennig/annemarietan/test/MoS2/Svac/\", \n",
    "                    \"--q\", \"0\", \"-1\", \"1\", \"--cell\", \"3x3x1\", \"4x4x1\", \"--vacs\", \"10\", \"15\", \"20\", \n",
    "                    \"--kppa\", \"440\"])\n",
    "## python setup_defects.py /path/to/Svac --q 0 -1 1 --cell 3x3x1 4x4x1 --vacs 10 15 20 --kppa 440"
   ]
  },
  {
   "cell_type": "markdown",
   "metadata": {},
   "source": [
    "* This should have created 3 x 2 x 3 = 18 sub-directories in the `Svac` main directory, following the directory structure of `charge/supercell_size/vacuum_spacing`. Check that each sub-directory contains a POSCAR, POTCAR, INCAR, KPOINTS, `defectproperty.json` and submission script."
   ]
  },
  {
   "cell_type": "code",
   "execution_count": 35,
   "metadata": {},
   "outputs": [
    {
     "name": "stdout",
     "output_type": "stream",
     "text": [
      "/ufrc/hennig/annemarietan/test/MoS2/Svac/charge_-1/3x3x1/vac_10\n",
      "defectproperty.json  INCAR  KPOINTS  POSCAR  POTCAR  submitVASP.sh\n"
     ]
    }
   ],
   "source": [
    "%cd charge_-1/3x3x1/vac_10\n",
    "%ls"
   ]
  },
  {
   "cell_type": "markdown",
   "metadata": {},
   "source": [
    "* You should see that the POSCARs now have 1 fewer S atom. You can also visualize the structure in VESTA/CrystalMaker/etc. to check that you did indeed create the defect as intended. This is particularly important when you create more complex defects (e.g. interstitials, defect clusters, etc.) for which the above method of defining the defect site is more complicated."
   ]
  },
  {
   "cell_type": "code",
   "execution_count": 37,
   "metadata": {
    "scrolled": true
   },
   "outputs": [
    {
     "data": {
      "application/vnd.jupyter.widget-view+json": {
       "model_id": "403faa21244c4ff9b8a972cb1c1e501f",
       "version_major": 2,
       "version_minor": 0
      },
      "text/plain": [
       "HBox(children=(NGLWidget(), VBox(children=(Dropdown(description='Show', options=('All', 'Mo', 'S'), value='All…"
      ]
     },
     "metadata": {},
     "output_type": "display_data"
    }
   ],
   "source": [
    "#import nglview\n",
    "from ase.io.vasp import read_vasp\n",
    "import ase.visualize.ngl as ngl\n",
    "\n",
    "atoms = read_vasp(\"POSCAR\")\n",
    "ngl.view_ngl(atoms, w=600, h=200)\n",
    "#nglview.show_ase(read_vasp(\"POSCAR\"))"
   ]
  },
  {
   "cell_type": "markdown",
   "metadata": {},
   "source": [
    "* Charged systems are specified in VASP by setting the `NELECT` (number of electrons) tag in the INCAR. By default, VASP sets `NELECT` to be $\\sum_i n_i Z_i$, where $n_i$ and $Z_i$ are the numbers of atoms and valence electrons of element $i$, respectively. \\\n",
    "For example, a neutral system with 9 Mo and 17 S atoms should have 9 x 12 + 17 x 6 = 210 valence electrons. We would specify a negatively charged system by adding electrons; for example, by setting `NELECT = 211` in the INCAR. You can verify that this has been taken care of by the script by comparing the INCARs for the defect in different charge states."
   ]
  },
  {
   "cell_type": "code",
   "execution_count": 44,
   "metadata": {},
   "outputs": [
    {
     "name": "stdout",
     "output_type": "stream",
     "text": [
      "PREC = Accurate\r\n",
      "ALGO = Fast\r\n",
      "LREAL = Auto\r\n",
      "ISYM = 0\r\n",
      "NELECT = 211\r\n",
      "ENCUT = 520\r\n",
      "NELM = 120\r\n",
      "EDIFF = 1e-06\r\n",
      "ISIF = 2\r\n",
      "IBRION = 2\r\n",
      "NSW = 100\r\n",
      "ISMEAR = 1\r\n",
      "SIGMA = 0.1\r\n",
      "ISPIN = 2\r\n",
      "MAGMOM = 9*5.0 17*0.6\r\n",
      "LPLANE = True\r\n",
      "NPAR = 4\r\n",
      "KPAR = 2\r\n",
      "LWAVE = False\r\n",
      "LCHARG = False\r\n",
      "LMAXMIX = 4\r\n",
      "LORBIT = 11\r\n",
      "LVTOT = True\r\n",
      "LVHAR = True\r\n"
     ]
    }
   ],
   "source": [
    "%cat INCAR"
   ]
  },
  {
   "cell_type": "markdown",
   "metadata": {},
   "source": [
    "* The `defectproperty.json` is a new file we have not encountered before. It contains some basic information about the defect and the supercell it has been created in, organized in a standarized dictionary form that is easiy accessible by other python scripts that will parse through the directories extracting relevant information and applying the correction scheme. Let's take a look at it:"
   ]
  },
  {
   "cell_type": "code",
   "execution_count": 42,
   "metadata": {},
   "outputs": [
    {
     "name": "stdout",
     "output_type": "stream",
     "text": [
      "{\r\n",
      "    \"charge\": -1,\r\n",
      "    \"defect_type\": [\r\n",
      "        \"vac_S\"\r\n",
      "    ],\r\n",
      "    \"defect_site\": [\r\n",
      "        [\r\n",
      "            0.7777777777777777,\r\n",
      "            0.8888888888888888,\r\n",
      "            0.38088767112\r\n",
      "        ]\r\n",
      "    ],\r\n",
      "    \"lattice\": {\r\n",
      "        \"@module\": \"pymatgen.core.lattice\",\r\n",
      "        \"@class\": \"Lattice\",\r\n",
      "        \"matrix\": [\r\n",
      "            [\r\n",
      "                9.541940940734781,\r\n",
      "                0.0,\r\n",
      "                0.0\r\n",
      "            ],\r\n",
      "            [\r\n",
      "                -4.7709704703673905,\r\n",
      "                8.263561989784584,\r\n",
      "                0.0\r\n",
      "            ],\r\n",
      "            [\r\n",
      "                0.0,\r\n",
      "                0.0,\r\n",
      "                13.11\r\n",
      "            ]\r\n",
      "        ]\r\n",
      "    },\r\n",
      "    \"supercell\": [\r\n",
      "        3,\r\n",
      "        3,\r\n",
      "        1\r\n",
      "    ],\r\n",
      "    \"vacuum\": 10\r\n",
      "}"
     ]
    }
   ],
   "source": [
    "%cat defectproperty.json"
   ]
  },
  {
   "cell_type": "markdown",
   "metadata": {},
   "source": [
    "* If everything looks good, submit your jobs!\\\n",
    "Note, as before, that you can change the defaults for the queue, number of nodes, memory, and runtime requested for each job. "
   ]
  },
  {
   "cell_type": "markdown",
   "metadata": {},
   "source": [
    "### 3.      Chemical potentials:"
   ]
  },
  {
   "cell_type": "markdown",
   "metadata": {},
   "source": [
    "The defect formation energy depends on the choice of chemical potential reference(s). For the example of a S vacancy in MoS$_2$, the relevant chemical potential is that of a S atom. However, the chemical potential of a S atom depends on the environment that it is in.\n",
    "\n",
    "In MoS$_2$, the chemical potentials of Mo ($\\mu_{\\textrm{Mo}}$) and S ($\\mu_{\\textrm{S}}$) are related by the stability of the MoS$_2$ phase, i.e. $\\mu_{\\textrm{Mo}} + \\mu_{\\textrm{S}} = \\mu_{\\textrm{MoS$_2$}}$. Within this constraint, the chemical potentials can be varied, subject to bounds determined by the competing phases."
   ]
  },
  {
   "cell_type": "markdown",
   "metadata": {},
   "source": [
    "* Let's check the phase diagram for the Mo-S system to see what are the relevant competing phases. The following phase diagram was obtained from https://materialsproject.org.\n",
    " <div>\n",
    "<img src=\"tutorial_images/phase_diagram.png\" width=\"800\"/>\n",
    "</div>"
   ]
  },
  {
   "cell_type": "markdown",
   "metadata": {},
   "source": [
    "Turns out, this system is pretty straightforward, with the only competing phases being the pure elements. Hence, we can define the chemical potentials in two limits:\n",
    "\n",
    "* Mo-rich (S-poor) limit: $\\mu_{\\textrm{Mo}} = \\mu_{\\textrm{bcc.Mo}}$; $\\mu_{\\textrm{S}} = (\\mu_{\\textrm{MoS$_2$}} - \\mu_{\\textrm{bcc.Mo}})/2$\n",
    "* S-rich (Mo-poor) limit: $\\mu_{\\textrm{Mo}} = \\mu_{\\textrm{MoS$_2$}} - 2\\mu_{\\textrm{elem.S}}$; $\\mu_{\\textrm{S}} = \\mu_{\\textrm{elem.S}}$\n",
    "\n",
    "There may be some ambiguity in choosing the reference phase for the elemental S, so for simplicity, we'll stick with the Mo-rich limit for now. $\\mu_{\\textrm{MoS$_2$}}$ is simply the energy of a formula unit of monolayer MoS$_2$, which we already have. Therefore, all we need is the energy per Mo atom in bcc Mo."
   ]
  },
  {
   "cell_type": "markdown",
   "metadata": {},
   "source": [
    "* Download the input files from Materials Project (mp-129) and run this calculation. If the unit cell has more than 1 atom, don't forget to divide the total energy accordingly!"
   ]
  },
  {
   "cell_type": "markdown",
   "metadata": {},
   "source": [
    "### 4.      Applying the charge correction:"
   ]
  },
  {
   "cell_type": "markdown",
   "metadata": {},
   "source": [
    "We are basically done with the DFT calculations at this point, but there is one very important step left – applying the [charge correction method developed by Freysoldt and Neugebauer](https://doi.org/10.1103/PhysRevB.97.205425) to determine the correction $E_{\\textrm{corr}}$ which corrects for the artefacts introduced by treating charged defects in the periodic supercell approach.\n",
    "\n",
    "Remember, the equation for the defect formation energy is:\n",
    "\n",
    "<div>\n",
    "<img src=\"tutorial_images/eqn_Eform.png\" width=\"400\"/>\n",
    "</div>\n",
    "\n",
    "First, let’s see what happens when we don’t apply the correction:"
   ]
  },
  {
   "cell_type": "markdown",
   "metadata": {},
   "source": [
    "* Run the following python script to parse the total energies from your completed DFT calculations:"
   ]
  },
  {
   "cell_type": "code",
   "execution_count": 6,
   "metadata": {},
   "outputs": [
    {
     "name": "stderr",
     "output_type": "stream",
     "text": [
      "INFO:parsing neutral 3x3x1 vac_20\n"
     ]
    },
    {
     "name": "stdout",
     "output_type": "stream",
     "text": [
      "/ufrc/hennig/annemarietan/test/MoS2/Svac\n"
     ]
    },
    {
     "name": "stderr",
     "output_type": "stream",
     "text": [
      "INFO:parsing neutral 3x3x1 vac_10\n",
      "WARNING:/ufrc/hennig/annemarietan/WS2/monolayer_Svac/GGA/mag/charge_0/3x3x1/vac_10/vasprun.xml file does not exist\n",
      "INFO:parsing neutral 3x3x1 vac_15\n",
      "INFO:parsing neutral 4x4x1 vac_20\n",
      "INFO:parsing neutral 4x4x1 vac_10\n",
      "WARNING:/ufrc/hennig/annemarietan/WS2/monolayer_Svac/GGA/mag/charge_0/4x4x1/vac_10/vasprun.xml file does not exist\n",
      "INFO:parsing neutral 4x4x1 vac_15\n",
      "INFO:parsing charge_-1 3x3x1 vac_20\n",
      "INFO:parsing charge_-1 3x3x1 vac_10\n",
      "WARNING:/ufrc/hennig/annemarietan/WS2/monolayer_Svac/GGA/mag/charge_-1/3x3x1/vac_10/vasprun.xml file does not exist\n",
      "INFO:parsing charge_-1 3x3x1 vac_15\n",
      "INFO:parsing charge_-1 4x4x1 vac_20\n",
      "WARNING:/ufrc/hennig/annemarietan/WS2/monolayer_Svac/GGA/mag/charge_-1/4x4x1/vac_20/vasprun.xml file does not exist\n",
      "INFO:parsing charge_-1 4x4x1 vac_10\n",
      "WARNING:/ufrc/hennig/annemarietan/WS2/monolayer_Svac/GGA/mag/charge_-1/4x4x1/vac_10/vasprun.xml file does not exist\n",
      "INFO:parsing charge_-1 4x4x1 vac_15\n",
      "INFO:parsing restart subdirectory\n",
      "INFO:parsing charge_1 3x3x1 vac_20\n",
      "INFO:parsing charge_1 3x3x1 vac_10\n",
      "WARNING:/ufrc/hennig/annemarietan/WS2/monolayer_Svac/GGA/mag/charge_1/3x3x1/vac_10/vasprun.xml file does not exist\n",
      "INFO:parsing charge_1 3x3x1 vac_15\n",
      "INFO:parsing charge_1 4x4x1 vac_20\n",
      "INFO:parsing charge_1 4x4x1 vac_10\n",
      "WARNING:/ufrc/hennig/annemarietan/WS2/monolayer_Svac/GGA/mag/charge_1/4x4x1/vac_10/vasprun.xml file does not exist\n",
      "INFO:parsing charge_1 4x4x1 vac_15\n",
      "DEBUG:Total time taken (s): 12.39\n"
     ]
    }
   ],
   "source": [
    "%cd /ufrc/hennig/annemarietan/test/MoS2/Svac\n",
    "\n",
    "parse_energies.main([\"/ufrc/hennig/annemarietan/WS2/monolayer_Svac/GGA/mag/\",\n",
    "                     \"/ufrc/hennig/annemarietan/WS2/monolayer_ref/GGA/mag/\",\n",
    "                     \"test_Eform_Svac.xlsx\"])\n",
    "## python parse_energies.py /path/to/Svac /path/to/pristineref Eform_Svac.xlsx"
   ]
  },
  {
   "cell_type": "code",
   "execution_count": null,
   "metadata": {},
   "outputs": [],
   "source": []
  }
 ],
 "metadata": {
  "kernelspec": {
   "display_name": "Python 3",
   "language": "python",
   "name": "python3"
  },
  "language_info": {
   "codemirror_mode": {
    "name": "ipython",
    "version": 3
   },
   "file_extension": ".py",
   "mimetype": "text/x-python",
   "name": "python",
   "nbconvert_exporter": "python",
   "pygments_lexer": "ipython3",
   "version": "3.7.7"
  }
 },
 "nbformat": 4,
 "nbformat_minor": 4
}
