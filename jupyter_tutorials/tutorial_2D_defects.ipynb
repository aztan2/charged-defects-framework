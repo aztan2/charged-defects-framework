{
 "cells": [
  {
   "cell_type": "markdown",
   "metadata": {},
   "source": [
    "# Calculations of charged defects in 2D materials\n",
    "a tutorial by Anne Marie Tan"
   ]
  },
  {
   "cell_type": "markdown",
   "metadata": {},
   "source": [
    "Some things to note before we get started:\n",
    "* Download the python scripts from the [github repository](https://github.com/aztan2/charged-defects-framework) and place them in your home directory on hipergator. Export this location to your PYTHONPATH in `~/.bashrc`.\n",
    "* You will need to launch this notebook from a virtual environment on hipergator in which you have installed python packages like numpy, matplotlib, pymatgen, pandas, nglview (if you want to use the built-in crystal viewer), and of course jupyterlab.\n",
    "* Follow the instructions in the [document on the Hennig group google drive](https://drive.google.com/file/d/15qzXZkK6Wrmor-9JOuGI_-nMmcHZsAoe/view?usp=sharing) to start a Jupyter notebook within a SLURM job on hipergator and connect to it from the web browser running on your local computer.\n",
    "* For the purpose of this tutorial, I will try to keep everything self-contained by executing all commands within the notebook, including navigating directories, executing python funtions and scripts, etc. However, when you actually apply this to a new system, you will probably find it easier to do some of these directly from the command line.\n",
    "* Please go through the tutorial **\"Calculating structure and properties of pristine 2D materials\"** before starting on this tutorial."
   ]
  },
  {
   "cell_type": "markdown",
   "metadata": {},
   "source": [
    "The main quantity that we’re interested in calculating is the defect formation energy $E^f[X^q]$, which we can compute in DFT using the supercell approach and the following equation:\n",
    "\n",
    "<div>\n",
    "<img src=\"tutorial_images/eqn_Eform.png\" width=\"400\"/>\n",
    "</div>\n",
    "\n",
    "where $E_{\\textrm{tot}}[X^q]$ and $E_{\\textrm{tot}}[\\textrm{pristine}]$ are the total DFT-derived energies of the supercell containing the defect $X$ and the pristine supercell respectively, $n_i$ is the number of atoms of species $i$ added ($n_i$ > 0) or removed ($n_i$ < 0) by the defect, $\\mu_i$ is the corresponding chemical potential of the species, and $E_{\\textrm{F}}$ is the Fermi energy. \n",
    "The final term $E_{\\textrm{corr}}$ contains corrections to the formation energy due to electrostatic interactions with periodic images and the implicit compensating background charges which are introduced in supercell calculations using plane-wave DFT approaches. We will evaluate this term using the method developed by [Freysoldt and Neugebauer](https://doi.org/10.1103/PhysRevB.97.205425).\n",
    "\n",
    "(This tutorial is meant to focus on how to perform the calculations and corrections, hence I will no go into detail about the theory here. You are recommended to read up on your own about (1) the origin of the artefacts that we need to correct for, and (2) how this correction scheme works.)"
   ]
  },
  {
   "cell_type": "markdown",
   "metadata": {},
   "source": [
    "Based on the equation above, the DFT calculations that are required to compute the formation energy are:\n",
    "* $E_{\\textrm{tot}}[\\textrm{pristine}]$\n",
    "* $E_{\\textrm{tot}}[X^q]$ for every defect of interest $X$ in different charge states $q$\n",
    "* the relevant $\\mu_i$\n",
    "\n",
    "So let's get started!"
   ]
  },
  {
   "cell_type": "code",
   "execution_count": 2,
   "metadata": {},
   "outputs": [],
   "source": [
    "import pandas\n",
    "\n",
    "from qdef2d.io.database import parse_energies\n",
    "\n",
    "from qdef2d.defects import setup_defect_calcs, calc_Eform_uncorr, calc_Eform_corr\n",
    "from qdef2d.defects.corrections import apply_corrections_2d, parse_corrections"
   ]
  },
  {
   "cell_type": "code",
   "execution_count": 17,
   "metadata": {},
   "outputs": [
    {
     "data": {
      "text/plain": [
       "<module 'qdef2d.defects.corrections.parse_corrections' from '/home/annemarietan/myscripts/qdef2d/defects/corrections/parse_corrections.py'>"
      ]
     },
     "execution_count": 17,
     "metadata": {},
     "output_type": "execute_result"
    }
   ],
   "source": [
    "# any time one of the imported files is modified, it must be reloaded\n",
    "import importlib\n",
    "importlib.reload(calc_Eform_corr)\n",
    "#importlib.reload(apply_corrections_2d)\n",
    "importlib.reload(parse_corrections)"
   ]
  },
  {
   "cell_type": "markdown",
   "metadata": {},
   "source": [
    "### 0.      Determine equilibrium lattice constants:"
   ]
  },
  {
   "cell_type": "markdown",
   "metadata": {},
   "source": [
    "For the defect calculations, we will fix the lattice parameters and only relax the atom positions. This ensures that we have a consistent reference for all our calculations (with/without defects) and models the system in which the defect concentration is in the dilute limit."
   ]
  },
  {
   "cell_type": "markdown",
   "metadata": {},
   "source": [
    "* Based on the pristine unit cell calculations you did in the **\"Calculating structure and properties of pristine 2D materials\"** tutorial, estimate the converged values of the in-plane lattice parameter(s). It should be around 3.18 Å for monolayer MoS$_2$ evaluated with PBE."
   ]
  },
  {
   "cell_type": "markdown",
   "metadata": {},
   "source": [
    "* Prepare a set of unit cell POSCARS with these lattice constants at different vacuum spacings (e.g. 10, 15, 20 Å). You can do this by just slightly modifying the lattice vectors at the top of your existing corresponding unit cell POSCARs. Name each of the new POSCARs `POSCAR_vac_<vacuum spacing>` (this naming convention is important!)."
   ]
  },
  {
   "cell_type": "markdown",
   "metadata": {},
   "source": [
    "### 1.      Total energy of a pristine supercell:"
   ]
  },
  {
   "cell_type": "markdown",
   "metadata": {},
   "source": [
    "This calculation is pretty straightforward. In fact, haven’t we already computed the energy of the pristine monolayer in the previous tutorial? Why do we need to do it again? \n",
    "\n",
    "While it is true that we could simply compute the total energy of a pristine supercell by multiplying the energy of a pristine unit cell accordingly, our later calculations will also require the potential (LOCPOT) of the pristine supercell, so we still need to perform the pristine supercell calculation anyway."
   ]
  },
  {
   "cell_type": "markdown",
   "metadata": {},
   "source": [
    "* Create a new directory for this set of calculations. Let's assume I've named it `pristine`. \\\n",
    "Create a subdirectory within this for calculations with GGA functional. "
   ]
  },
  {
   "cell_type": "code",
   "execution_count": 8,
   "metadata": {},
   "outputs": [
    {
     "name": "stdout",
     "output_type": "stream",
     "text": [
      "/blue/hennig/annemarietan/test/MoS2\n"
     ]
    }
   ],
   "source": [
    "%cd /blue/hennig/annemarietan/test/MoS2\n",
    "%mkdir pristine/GGA"
   ]
  },
  {
   "cell_type": "markdown",
   "metadata": {},
   "source": [
    "* Copy the POSCARs you made in Step 0 into this directory"
   ]
  },
  {
   "cell_type": "code",
   "execution_count": 9,
   "metadata": {},
   "outputs": [
    {
     "name": "stdout",
     "output_type": "stream",
     "text": [
      "/blue/hennig/annemarietan/test/MoS2/pristine/GGA\n",
      "POSCAR_vac_10  POSCAR_vac_15  POSCAR_vac_20\r\n"
     ]
    }
   ],
   "source": [
    "%cp unitcell/POSCAR_vac_* pristine/GGA/.\n",
    "%cd pristine/GGA\n",
    "%ls"
   ]
  },
  {
   "cell_type": "markdown",
   "metadata": {},
   "source": [
    "* Prepare the POTCAR by concatenating the appropriate element POTCARs. \\\n",
    "In the following example, we will be creating a S vacancy in MoS$_2$, therefore we will only require the `Mo_pv` POTCAR for Mo and `S` POTCAR for S, as before. \\\n",
    "If you are introducing a dopant or impurity of a different species, you will have to concatenate the appropriate POTCAR. Remember, pymatgen orders the elements in the POSCAR by increasing electronegativity, hence the element POTCARs must be concatenated in the same order!"
   ]
  },
  {
   "cell_type": "code",
   "execution_count": 10,
   "metadata": {},
   "outputs": [
    {
     "name": "stdout",
     "output_type": "stream",
     "text": [
      "POSCAR_vac_10  POSCAR_vac_15  POSCAR_vac_20  POTCAR\r\n"
     ]
    }
   ],
   "source": [
    "%cat /home/annemarietan/POTCAR/POT_GGA_PAW_PBE/Mo_pv/POTCAR /home/annemarietan/POTCAR/POT_GGA_PAW_PBE/S/POTCAR > POTCAR\n",
    "%ls"
   ]
  },
  {
   "cell_type": "markdown",
   "metadata": {},
   "source": [
    "* Run the following python script to generate all the input files for our pristine supercell calculations: \\\n",
    "(run `help(setup_defect_calcs.setup)` or `python setup_defect_calcs.py --h` to see the description of the required and optional arguments for this script)"
   ]
  },
  {
   "cell_type": "code",
   "execution_count": 18,
   "metadata": {},
   "outputs": [
    {
     "name": "stderr",
     "output_type": "stream",
     "text": [
      "INFO:generating input files in /blue/hennig/annemarietan/test/MoS2/pristine/GGA/charge_0/3x3x1/vac_10\n",
      "INFO:generating input files in /blue/hennig/annemarietan/test/MoS2/pristine/GGA/charge_0/3x3x1/vac_15\n"
     ]
    },
    {
     "name": "stdout",
     "output_type": "stream",
     "text": [
      "ref_3x3x1_10\n"
     ]
    },
    {
     "name": "stderr",
     "output_type": "stream",
     "text": [
      "INFO:generating input files in /blue/hennig/annemarietan/test/MoS2/pristine/GGA/charge_0/3x3x1/vac_20\n"
     ]
    },
    {
     "name": "stdout",
     "output_type": "stream",
     "text": [
      "ref_3x3x1_15\n"
     ]
    },
    {
     "name": "stderr",
     "output_type": "stream",
     "text": [
      "INFO:generating input files in /blue/hennig/annemarietan/test/MoS2/pristine/GGA/charge_0/4x4x1/vac_10\n"
     ]
    },
    {
     "name": "stdout",
     "output_type": "stream",
     "text": [
      "ref_3x3x1_20\n"
     ]
    },
    {
     "name": "stderr",
     "output_type": "stream",
     "text": [
      "INFO:generating input files in /blue/hennig/annemarietan/test/MoS2/pristine/GGA/charge_0/4x4x1/vac_15\n"
     ]
    },
    {
     "name": "stdout",
     "output_type": "stream",
     "text": [
      "ref_4x4x1_10\n"
     ]
    },
    {
     "name": "stderr",
     "output_type": "stream",
     "text": [
      "INFO:generating input files in /blue/hennig/annemarietan/test/MoS2/pristine/GGA/charge_0/4x4x1/vac_20\n"
     ]
    },
    {
     "name": "stdout",
     "output_type": "stream",
     "text": [
      "ref_4x4x1_15\n",
      "ref_4x4x1_20\n"
     ]
    }
   ],
   "source": [
    "setup_defect_calcs.setup(\"/blue/hennig/annemarietan/test/MoS2/pristine/GGA/\", \n",
    "                    qs=[0], cells=[[3,3,1],[4,4,1]], vacs=[10,15,20], \n",
    "                    kppa=440,bulkref=True)\n",
    "# python setup_defect_calcs.py /path/to/pristine/GGA --qs 0 --cells 3x3x1 4x4x1 --vacs 10 15 20 --kppa 440 --bulkref"
   ]
  },
  {
   "cell_type": "markdown",
   "metadata": {},
   "source": [
    "* This should have created 6 sub-directories in the `pristineref/GGA/` main directory, following the directory structure of `charge/supercell_size/vacuum_spacing`. This is the default directory structure that all my scripts have been designed to work with. Check that each sub-directory contains a POSCAR, POTCAR, INCAR, KPOINTS, and submission script."
   ]
  },
  {
   "cell_type": "code",
   "execution_count": 19,
   "metadata": {},
   "outputs": [
    {
     "name": "stdout",
     "output_type": "stream",
     "text": [
      "/blue/hennig/annemarietan/test/MoS2/pristine/GGA/charge_0/3x3x1/vac_10\n",
      "INCAR  KPOINTS  POSCAR  POTCAR  submitVASP.sh\r\n"
     ]
    }
   ],
   "source": [
    "%cd charge_0/3x3x1/vac_10\n",
    "%ls"
   ]
  },
  {
   "cell_type": "code",
   "execution_count": 20,
   "metadata": {},
   "outputs": [
    {
     "name": "stdout",
     "output_type": "stream",
     "text": [
      "Mo9 S18\r\n",
      "1.0\r\n",
      "9.541941 0.000000 0.000000\r\n",
      "-4.770970 8.263562 0.000000\r\n",
      "0.000000 0.000000 13.110000\r\n",
      "Mo S\r\n",
      "9 18\r\n",
      "direct\r\n",
      "0.222222 0.111111 0.500000 Mo\r\n",
      "0.222222 0.444444 0.500000 Mo\r\n",
      "0.222222 0.777778 0.500000 Mo\r\n",
      "0.555556 0.111111 0.500000 Mo\r\n",
      "0.555556 0.444444 0.500000 Mo\r\n",
      "0.555556 0.777778 0.500000 Mo\r\n",
      "0.888889 0.111111 0.500000 Mo\r\n",
      "0.888889 0.444444 0.500000 Mo\r\n",
      "0.888889 0.777778 0.500000 Mo\r\n",
      "0.111111 0.222222 0.619112 S\r\n",
      "0.111111 0.555556 0.619112 S\r\n",
      "0.111111 0.888889 0.619112 S\r\n",
      "0.444444 0.222222 0.619112 S\r\n",
      "0.444444 0.555556 0.619112 S\r\n",
      "0.444444 0.888889 0.619112 S\r\n",
      "0.777778 0.222222 0.619112 S\r\n",
      "0.777778 0.555556 0.619112 S\r\n",
      "0.777778 0.888889 0.619112 S\r\n",
      "0.111111 0.222222 0.380888 S\r\n",
      "0.111111 0.555556 0.380888 S\r\n",
      "0.111111 0.888889 0.380888 S\r\n",
      "0.444444 0.222222 0.380888 S\r\n",
      "0.444444 0.555556 0.380888 S\r\n",
      "0.444444 0.888889 0.380888 S\r\n",
      "0.777778 0.222222 0.380888 S\r\n",
      "0.777778 0.555556 0.380888 S\r\n",
      "0.777778 0.888889 0.380888 S\r\n"
     ]
    }
   ],
   "source": [
    "%cat POSCAR"
   ]
  },
  {
   "cell_type": "code",
   "execution_count": 22,
   "metadata": {},
   "outputs": [
    {
     "data": {
      "application/vnd.jupyter.widget-view+json": {
       "model_id": "13e6eee5e84542f388c884fdbd04718d",
       "version_major": 2,
       "version_minor": 0
      },
      "text/plain": [
       "_ColormakerRegistry()"
      ]
     },
     "metadata": {},
     "output_type": "display_data"
    },
    {
     "data": {
      "application/vnd.jupyter.widget-view+json": {
       "model_id": "d0088983dda942eba491098e76b964a5",
       "version_major": 2,
       "version_minor": 0
      },
      "text/plain": [
       "HBox(children=(NGLWidget(), VBox(children=(Dropdown(description='Show', options=('All', 'S', 'Mo'), value='All…"
      ]
     },
     "metadata": {},
     "output_type": "display_data"
    }
   ],
   "source": [
    "from ase.visualize import view\n",
    "from pymatgen.io.ase import AseAtomsAdaptor\n",
    "from pymatgen.io.vasp import Poscar\n",
    "\n",
    "structure = Poscar.from_file('POSCAR').structure\n",
    "atoms = AseAtomsAdaptor.get_atoms(structure)\n",
    "ngl_handler = view(atoms, viewer='ngl')\n",
    "ngl_handler.view.add_representation('ball+stick', selection='all')\n",
    "ngl_handler.view.center()\n",
    "ngl_handler"
   ]
  },
  {
   "cell_type": "markdown",
   "metadata": {},
   "source": [
    "* Submit your jobs!\\\n",
    "Note that the default in the `gen_submit.py` script is to submit to the priority queue (`hennig`). The number of cores available on the priority queue is limited and shared among everyone in the group, so you don't want to hog too many cores all at once. You may change the default in the python script or edit the submission script directly to submit to the burst queue (`hennig-b`) instead."
   ]
  },
  {
   "cell_type": "markdown",
   "metadata": {},
   "source": [
    "* When your jobs are done, what’s an easy sanity check you can do? (hint: see the discussion at the beginning of Step 1)"
   ]
  },
  {
   "cell_type": "markdown",
   "metadata": {},
   "source": [
    "### 2.      Total energy of a defected supercell:"
   ]
  },
  {
   "cell_type": "markdown",
   "metadata": {},
   "source": [
    "Finally, we get to the real meat of our calculations! \n",
    "\n",
    "Let’s first consider a simple intrinsic defect, a S vacancy in MoS$_2$."
   ]
  },
  {
   "cell_type": "markdown",
   "metadata": {},
   "source": [
    "* Create a main defect directory for this set of calculations. Let’s assume I’ve named it `Svac`. \\\n",
    "Again, create a subdirectory within this for calculations with GGA functional."
   ]
  },
  {
   "cell_type": "code",
   "execution_count": 23,
   "metadata": {},
   "outputs": [
    {
     "name": "stdout",
     "output_type": "stream",
     "text": [
      "/blue/hennig/annemarietan/test/MoS2\n",
      "mkdir: cannot create directory ‘Svac/GGA’: File exists\r\n"
     ]
    }
   ],
   "source": [
    "%cd /blue/hennig/annemarietan/test/MoS2\n",
    "%mkdir Svac/GGA"
   ]
  },
  {
   "cell_type": "markdown",
   "metadata": {},
   "source": [
    "* Copy the same POTCAR and unit cell POSCARs as used in step 1 into this directory."
   ]
  },
  {
   "cell_type": "code",
   "execution_count": 24,
   "metadata": {},
   "outputs": [
    {
     "name": "stdout",
     "output_type": "stream",
     "text": [
      "/blue/hennig/annemarietan/test/MoS2/Svac/GGA\n",
      "POSCAR_vac_10  POSCAR_vac_15  POSCAR_vac_20  POTCAR\n"
     ]
    }
   ],
   "source": [
    "%cp pristine/GGA/PO* Svac/GGA/.\n",
    "%cd Svac/GGA\n",
    "%ls"
   ]
  },
  {
   "cell_type": "markdown",
   "metadata": {},
   "source": [
    "* We will specify the number, type, and position of the defect(s) to create in an `initdefect.json` file. \\\n",
    "For a simple vacancy, this is very straightforward. For example, to create a S vacancy by removing the S atom at the last position in the POSCAR, simply create the file with the following lines: \n",
    "\n",
    "```\n",
    "{\n",
    "\t\"def1\": {\"type\": \"vac\", \"index\": -1, \"species\": \"S\"}\n",
    "}\n",
    "```\n",
    "\n",
    "This will tell the script to remove the S atom at index -1 (in python, negative indices will count backwards from the end of the list). To learn how to specify other types of defects, please refer to [the additional document that I have to write].\n",
    "\n",
    "You can simply copy the lines above into your text editor of choice on hipergator and save the file as `initdefect.json` (the name is important!). However, in an attempt to keep this notebook as self-contained as possible, I also provide a small python script below which will do the same thing."
   ]
  },
  {
   "cell_type": "code",
   "execution_count": 25,
   "metadata": {},
   "outputs": [],
   "source": [
    "import json\n",
    "\n",
    "defects = {\"def1\":{\"type\": \"vac\", \"index\": -1, \"species\": \"S\"}}\n",
    "\n",
    "with open(\"initdefect.json\", 'w') as file:\n",
    "    file.write(json.dumps(defects,indent=4))"
   ]
  },
  {
   "cell_type": "code",
   "execution_count": 30,
   "metadata": {},
   "outputs": [
    {
     "name": "stdout",
     "output_type": "stream",
     "text": [
      "cat: initdefect.json: No such file or directory\r\n"
     ]
    }
   ],
   "source": [
    "%cat initdefect.json"
   ]
  },
  {
   "cell_type": "markdown",
   "metadata": {},
   "source": [
    "* Now, you have all you need to run the following python script to generate all the input files for our defect calculations:"
   ]
  },
  {
   "cell_type": "code",
   "execution_count": 31,
   "metadata": {},
   "outputs": [
    {
     "name": "stderr",
     "output_type": "stream",
     "text": [
      "INFO:generating input files in /blue/hennig/annemarietan/test/MoS2/Svac/GGA/charge_0/3x3x1/vac_10\n",
      "INFO:generating input files in /blue/hennig/annemarietan/test/MoS2/Svac/GGA/charge_0/3x3x1/vac_15\n"
     ]
    },
    {
     "name": "stdout",
     "output_type": "stream",
     "text": [
      "vac_S_0_3x3x1_10\n"
     ]
    },
    {
     "name": "stderr",
     "output_type": "stream",
     "text": [
      "INFO:generating input files in /blue/hennig/annemarietan/test/MoS2/Svac/GGA/charge_0/3x3x1/vac_20\n"
     ]
    },
    {
     "name": "stdout",
     "output_type": "stream",
     "text": [
      "vac_S_0_3x3x1_15\n"
     ]
    },
    {
     "name": "stderr",
     "output_type": "stream",
     "text": [
      "INFO:generating input files in /blue/hennig/annemarietan/test/MoS2/Svac/GGA/charge_0/4x4x1/vac_10\n"
     ]
    },
    {
     "name": "stdout",
     "output_type": "stream",
     "text": [
      "vac_S_0_3x3x1_20\n"
     ]
    },
    {
     "name": "stderr",
     "output_type": "stream",
     "text": [
      "INFO:generating input files in /blue/hennig/annemarietan/test/MoS2/Svac/GGA/charge_0/4x4x1/vac_15\n"
     ]
    },
    {
     "name": "stdout",
     "output_type": "stream",
     "text": [
      "vac_S_0_4x4x1_10\n"
     ]
    },
    {
     "name": "stderr",
     "output_type": "stream",
     "text": [
      "INFO:generating input files in /blue/hennig/annemarietan/test/MoS2/Svac/GGA/charge_0/4x4x1/vac_20\n"
     ]
    },
    {
     "name": "stdout",
     "output_type": "stream",
     "text": [
      "vac_S_0_4x4x1_15\n"
     ]
    },
    {
     "name": "stderr",
     "output_type": "stream",
     "text": [
      "INFO:generating input files in /blue/hennig/annemarietan/test/MoS2/Svac/GGA/charge_-1/3x3x1/vac_10\n"
     ]
    },
    {
     "name": "stdout",
     "output_type": "stream",
     "text": [
      "vac_S_0_4x4x1_20\n"
     ]
    },
    {
     "name": "stderr",
     "output_type": "stream",
     "text": [
      "INFO:generating input files in /blue/hennig/annemarietan/test/MoS2/Svac/GGA/charge_-1/3x3x1/vac_15\n"
     ]
    },
    {
     "name": "stdout",
     "output_type": "stream",
     "text": [
      "vac_S_-1_3x3x1_10\n"
     ]
    },
    {
     "name": "stderr",
     "output_type": "stream",
     "text": [
      "INFO:generating input files in /blue/hennig/annemarietan/test/MoS2/Svac/GGA/charge_-1/3x3x1/vac_20\n"
     ]
    },
    {
     "name": "stdout",
     "output_type": "stream",
     "text": [
      "vac_S_-1_3x3x1_15\n"
     ]
    },
    {
     "name": "stderr",
     "output_type": "stream",
     "text": [
      "INFO:generating input files in /blue/hennig/annemarietan/test/MoS2/Svac/GGA/charge_-1/4x4x1/vac_10\n"
     ]
    },
    {
     "name": "stdout",
     "output_type": "stream",
     "text": [
      "vac_S_-1_3x3x1_20\n"
     ]
    },
    {
     "name": "stderr",
     "output_type": "stream",
     "text": [
      "INFO:generating input files in /blue/hennig/annemarietan/test/MoS2/Svac/GGA/charge_-1/4x4x1/vac_15\n"
     ]
    },
    {
     "name": "stdout",
     "output_type": "stream",
     "text": [
      "vac_S_-1_4x4x1_10\n"
     ]
    },
    {
     "name": "stderr",
     "output_type": "stream",
     "text": [
      "INFO:generating input files in /blue/hennig/annemarietan/test/MoS2/Svac/GGA/charge_-1/4x4x1/vac_20\n"
     ]
    },
    {
     "name": "stdout",
     "output_type": "stream",
     "text": [
      "vac_S_-1_4x4x1_15\n"
     ]
    },
    {
     "name": "stderr",
     "output_type": "stream",
     "text": [
      "INFO:generating input files in /blue/hennig/annemarietan/test/MoS2/Svac/GGA/charge_1/3x3x1/vac_10\n"
     ]
    },
    {
     "name": "stdout",
     "output_type": "stream",
     "text": [
      "vac_S_-1_4x4x1_20\n"
     ]
    },
    {
     "name": "stderr",
     "output_type": "stream",
     "text": [
      "INFO:generating input files in /blue/hennig/annemarietan/test/MoS2/Svac/GGA/charge_1/3x3x1/vac_15\n"
     ]
    },
    {
     "name": "stdout",
     "output_type": "stream",
     "text": [
      "vac_S_1_3x3x1_10\n"
     ]
    },
    {
     "name": "stderr",
     "output_type": "stream",
     "text": [
      "INFO:generating input files in /blue/hennig/annemarietan/test/MoS2/Svac/GGA/charge_1/3x3x1/vac_20\n"
     ]
    },
    {
     "name": "stdout",
     "output_type": "stream",
     "text": [
      "vac_S_1_3x3x1_15\n"
     ]
    },
    {
     "name": "stderr",
     "output_type": "stream",
     "text": [
      "INFO:generating input files in /blue/hennig/annemarietan/test/MoS2/Svac/GGA/charge_1/4x4x1/vac_10\n"
     ]
    },
    {
     "name": "stdout",
     "output_type": "stream",
     "text": [
      "vac_S_1_3x3x1_20\n"
     ]
    },
    {
     "name": "stderr",
     "output_type": "stream",
     "text": [
      "INFO:generating input files in /blue/hennig/annemarietan/test/MoS2/Svac/GGA/charge_1/4x4x1/vac_15\n"
     ]
    },
    {
     "name": "stdout",
     "output_type": "stream",
     "text": [
      "vac_S_1_4x4x1_10\n"
     ]
    },
    {
     "name": "stderr",
     "output_type": "stream",
     "text": [
      "INFO:generating input files in /blue/hennig/annemarietan/test/MoS2/Svac/GGA/charge_1/4x4x1/vac_20\n"
     ]
    },
    {
     "name": "stdout",
     "output_type": "stream",
     "text": [
      "vac_S_1_4x4x1_15\n",
      "vac_S_1_4x4x1_20\n"
     ]
    }
   ],
   "source": [
    "setup_defect_calcs.setup(\"/blue/hennig/annemarietan/test/MoS2/Svac/GGA/\", \n",
    "                          qs=[0,-1,1], cells=[[3,3,1],[4,4,1]], vacs=[10,15,20], \n",
    "                          kppa=440)\n",
    "# python setup_defect_calcs.py /path/to/Svac/GGA --qs 0 -1 1 --cells 3x3x1 4x4x1 --vacs 10 15 20 --kppa 440"
   ]
  },
  {
   "cell_type": "markdown",
   "metadata": {},
   "source": [
    "* This should have created 3 x 2 x 3 = 18 sub-directories in the `Svac/GGA/` main directory, following the directory structure of `charge/supercell_size/vacuum_spacing`. Check that each sub-directory contains a POSCAR, POTCAR, INCAR, KPOINTS, `defectproperty.json` and submission script."
   ]
  },
  {
   "cell_type": "code",
   "execution_count": 32,
   "metadata": {},
   "outputs": [
    {
     "name": "stdout",
     "output_type": "stream",
     "text": [
      "/blue/hennig/annemarietan/test/MoS2/Svac/GGA/charge_-1/3x3x1/vac_10\n",
      "defectproperty.json  INCAR  KPOINTS  POSCAR  POTCAR  submitVASP.sh\r\n"
     ]
    }
   ],
   "source": [
    "%cd charge_-1/3x3x1/vac_10\n",
    "%ls"
   ]
  },
  {
   "cell_type": "markdown",
   "metadata": {},
   "source": [
    "* You should see that the POSCARs now have 1 fewer S atom. You can also visualize the structure in VESTA/CrystalMaker/etc. to check that you did indeed create the defect as intended. This is particularly important when you create more complex defects (e.g. interstitials, defect clusters, etc.) for which the above method of defining the defect site is more complicated."
   ]
  },
  {
   "cell_type": "code",
   "execution_count": 33,
   "metadata": {
    "scrolled": true
   },
   "outputs": [
    {
     "data": {
      "application/vnd.jupyter.widget-view+json": {
       "model_id": "0e9ba0f7feaf46bf8435b35b0c0decb8",
       "version_major": 2,
       "version_minor": 0
      },
      "text/plain": [
       "HBox(children=(NGLWidget(), VBox(children=(Dropdown(description='Show', options=('All', 'S', 'Mo'), value='All…"
      ]
     },
     "metadata": {},
     "output_type": "display_data"
    }
   ],
   "source": [
    "#from ase.visualize import view\n",
    "#from pymatgen.io.ase import AseAtomsAdaptor\n",
    "#from pymatgen.io.vasp import Poscar\n",
    "\n",
    "structure = Poscar.from_file('POSCAR').structure\n",
    "atoms = AseAtomsAdaptor.get_atoms(structure)\n",
    "ngl_handler = view(atoms, viewer='ngl')\n",
    "ngl_handler.view.add_representation('ball+stick', selection='all')\n",
    "ngl_handler.view.center()\n",
    "ngl_handler"
   ]
  },
  {
   "cell_type": "markdown",
   "metadata": {},
   "source": [
    "* Charged systems are specified in VASP by setting the `NELECT` (number of electrons) tag in the INCAR. By default, VASP sets `NELECT` to be $\\sum_i n_i Z_i$, where $n_i$ and $Z_i$ are the numbers of atoms and valence electrons of element $i$, respectively. \\\n",
    "For example, a neutral system with 9 Mo and 17 S atoms should have 9 x 12 + 17 x 6 = 210 valence electrons. We would specify a negatively charged system by adding electrons; for example, by setting `NELECT = 211` in the INCAR. You can verify that this has been taken care of by the script by comparing the INCARs for the defect in different charge states."
   ]
  },
  {
   "cell_type": "code",
   "execution_count": 34,
   "metadata": {},
   "outputs": [
    {
     "name": "stdout",
     "output_type": "stream",
     "text": [
      "PREC = Accurate\r\n",
      "ALGO = Fast\r\n",
      "LREAL = Auto\r\n",
      "ISYM = 0\r\n",
      "NELECT = 211\r\n",
      "ENCUT = 520\r\n",
      "NELM = 120\r\n",
      "EDIFF = 1e-05\r\n",
      "ISIF = 2\r\n",
      "IBRION = 2\r\n",
      "NSW = 100\r\n",
      "ISMEAR = 1\r\n",
      "SIGMA = 0.1\r\n",
      "ISPIN = 2\r\n",
      "MAGMOM = 9*5.0 17*0.6\r\n",
      "LPLANE = True\r\n",
      "NCORE = 8\r\n",
      "LWAVE = False\r\n",
      "LCHARG = False\r\n",
      "LMAXMIX = 4\r\n",
      "LORBIT = 11\r\n",
      "LVHAR = True\r\n"
     ]
    }
   ],
   "source": [
    "%cat INCAR"
   ]
  },
  {
   "cell_type": "markdown",
   "metadata": {},
   "source": [
    "* The `defectproperty.json` is a new file we have not encountered before. It contains some basic information about the defect and the supercell it has been created in, organized in a standarized dictionary form that is easily accessible by other python scripts that will later parse through the directories extracting relevant information and applying the correction scheme. Let's take a look at it:"
   ]
  },
  {
   "cell_type": "code",
   "execution_count": 35,
   "metadata": {},
   "outputs": [
    {
     "name": "stdout",
     "output_type": "stream",
     "text": [
      "{\r\n",
      "    \"charge\": -1,\r\n",
      "    \"defect_type\": [\r\n",
      "        \"vac_S\"\r\n",
      "    ],\r\n",
      "    \"defect_site\": [\r\n",
      "        [\r\n",
      "            0.7777777777777777,\r\n",
      "            0.8888888888888888,\r\n",
      "            0.38088767112\r\n",
      "        ]\r\n",
      "    ],\r\n",
      "    \"lattice\": {\r\n",
      "        \"@module\": \"pymatgen.core.lattice\",\r\n",
      "        \"@class\": \"Lattice\",\r\n",
      "        \"matrix\": [\r\n",
      "            [\r\n",
      "                9.541940940734781,\r\n",
      "                0.0,\r\n",
      "                0.0\r\n",
      "            ],\r\n",
      "            [\r\n",
      "                -4.7709704703673905,\r\n",
      "                8.263561989784584,\r\n",
      "                0.0\r\n",
      "            ],\r\n",
      "            [\r\n",
      "                0.0,\r\n",
      "                0.0,\r\n",
      "                13.11\r\n",
      "            ]\r\n",
      "        ]\r\n",
      "    },\r\n",
      "    \"supercell\": [\r\n",
      "        3,\r\n",
      "        3,\r\n",
      "        1\r\n",
      "    ],\r\n",
      "    \"vacuum\": 10\r\n",
      "}"
     ]
    }
   ],
   "source": [
    "%cat defectproperty.json"
   ]
  },
  {
   "cell_type": "markdown",
   "metadata": {},
   "source": [
    "* If everything looks good, submit your jobs!\\\n",
    "Note, as before, that you can change the defaults for the queue, number of nodes, memory, and runtime requested for each job. "
   ]
  },
  {
   "cell_type": "markdown",
   "metadata": {},
   "source": [
    "### 3.      Chemical potentials:"
   ]
  },
  {
   "cell_type": "markdown",
   "metadata": {},
   "source": [
    "The defect formation energy depends on the choice of chemical potential reference(s). For the example of a S vacancy in MoS$_2$, the relevant chemical potential is that of a S atom. However, the chemical potential of a S atom depends on the environment that it is in.\n",
    "\n",
    "In MoS$_2$, the chemical potentials of Mo ($\\mu_{\\textrm{Mo}}$) and S ($\\mu_{\\textrm{S}}$) are related by the stability of the MoS$_2$ phase, i.e. $\\mu_{\\textrm{Mo}} + 2\\mu_{\\textrm{S}} = \\mu_{\\textrm{MoS$_2$}}$. Within this constraint, the chemical potentials can be varied, subject to bounds determined by the competing phases."
   ]
  },
  {
   "cell_type": "markdown",
   "metadata": {},
   "source": [
    "* Let's check the phase diagram for the Mo-S system to see what are the relevant competing phases. The following phase diagram was obtained from https://materialsproject.org.\n",
    "<div>\n",
    "<img src=\"tutorial_images/phase_diagram.png\" width=\"800\"/>\n",
    "</div>"
   ]
  },
  {
   "cell_type": "markdown",
   "metadata": {},
   "source": [
    "Turns out, this system is pretty straightforward, with the only competing phases being the pure elements. Hence, we can define the chemical potentials in two limits:\n",
    "\n",
    "* Mo-rich (S-poor) limit: $\\mu_{\\textrm{Mo}} = \\mu_{\\textrm{bcc Mo}}$; $\\mu_{\\textrm{S}} = (\\mu_{\\textrm{MoS$_2$}} - \\mu_{\\textrm{bcc Mo}})/2$\n",
    "* S-rich (Mo-poor) limit: $\\mu_{\\textrm{Mo}} = \\mu_{\\textrm{MoS$_2$}} - 2\\mu_{\\textrm{elem S}}$; $\\mu_{\\textrm{S}} = \\mu_{\\textrm{elem S}}$\n",
    "\n",
    "There may be some ambiguity in choosing the reference phase for the elemental S, so for simplicity, we'll stick with the Mo-rich limit for now. $\\mu_{\\textrm{MoS$_2$}}$ is simply the energy of a formula unit of monolayer MoS$_2$, which we already have. Therefore, all we need is the energy per Mo atom in bcc Mo."
   ]
  },
  {
   "cell_type": "markdown",
   "metadata": {},
   "source": [
    "* Download the input files from Materials Project (mp-129) and run this calculation. If the unit cell has more than 1 atom, don't forget to divide the total energy accordingly!"
   ]
  },
  {
   "cell_type": "markdown",
   "metadata": {},
   "source": [
    "### 4.      (Uncorrected) defect formation energy:"
   ]
  },
  {
   "cell_type": "markdown",
   "metadata": {},
   "source": [
    "We are done with the DFT calculations at this point, and can now start pulling together the relevant computed quantities to evaluate the formation energy of a S vacancy defect in monolayer MoS$_2$!\n",
    "\n",
    "Remember, the equation for the defect formation energy is:\n",
    "\n",
    "<div>\n",
    "<img src=\"tutorial_images/eqn_Eform.png\" width=\"400\"/>\n",
    "</div>\n",
    "\n",
    "First, let’s see what happens when we don’t apply the correction, i.e. evaluate only the first 4 terms in the equation:"
   ]
  },
  {
   "cell_type": "markdown",
   "metadata": {},
   "source": [
    "For the purpose of this tutorial, I have run some calculations beforehand and copied some of my output files into the corresponding directories `/orange/hennig/annemarietan/precalculated_for_demo/MoS2/Svac/GGA/` and `/orange/hennig/annemarietan/precalculated_for_demo/MoS2/pristine/GGA/` so that I can demonstrate the post-processing steps without waiting for all your jobs to complete. These calculations were performed with lattice constant $a_0$ = 3.180647 Å, which should be close to the equilibrium lattice constant you arrived at above. Regardless, the most important thing is consistency, so as long as you stick with the same choice for all your calculations, the final results should not be significantly different.\n",
    "\n",
    "* Run the following python script to parse the total energies from the completed DFT calculations and save them in a pandas dataframe:"
   ]
  },
  {
   "cell_type": "code",
   "execution_count": 42,
   "metadata": {},
   "outputs": [
    {
     "name": "stderr",
     "output_type": "stream",
     "text": [
      "INFO:parsing neutral 3x3x1 vac_15\n"
     ]
    },
    {
     "name": "stdout",
     "output_type": "stream",
     "text": [
      "/orange/hennig/annemarietan/precalculated_for_demo/MoS2/Svac/GGA\n"
     ]
    },
    {
     "name": "stderr",
     "output_type": "stream",
     "text": [
      "INFO:parsing neutral 3x3x1 vac_20\n",
      "INFO:parsing neutral 4x4x1 vac_20\n",
      "INFO:parsing charge_-1 3x3x1 vac_15\n",
      "INFO:parsing charge_-1 3x3x1 vac_20\n",
      "INFO:parsing charge_-1 4x4x1 vac_20\n",
      "INFO:parsing charge_1 3x3x1 vac_15\n",
      "INFO:parsing charge_1 3x3x1 vac_20\n",
      "INFO:parsing charge_1 4x4x1 vac_20\n",
      "DEBUG:Total time taken (s): 10.42\n"
     ]
    }
   ],
   "source": [
    "%cd /orange/hennig/annemarietan/precalculated_for_demo/MoS2/Svac/GGA\n",
    "\n",
    "parse_energies.parse(\"/orange/hennig/annemarietan/precalculated_for_demo/MoS2/Svac/GGA/\",\n",
    "                    \"/orange/hennig/annemarietan/precalculated_for_demo/MoS2/pristine/GGA/\",\n",
    "                    \"Eform_Svac.xlsx\")\n",
    "# python parse_energies.py /path/to/Svac/GGA /path/to/pristine/GGA Eform_Svac.xlsx"
   ]
  },
  {
   "cell_type": "markdown",
   "metadata": {},
   "source": [
    "* The pandas dataframe should be written out to an excel file in this directory. We can take a look at its contents: \\\n",
    "The values in columns `E_def` and `E_bulk` are respectively $E_{\\textrm{tot}}[X^q]$ and $E_{\\textrm{tot}}[\\textrm{pristine}]$ in the above equation."
   ]
  },
  {
   "cell_type": "code",
   "execution_count": 43,
   "metadata": {},
   "outputs": [
    {
     "name": "stdout",
     "output_type": "stream",
     "text": [
      "charge_0\n"
     ]
    },
    {
     "data": {
      "text/html": [
       "<div>\n",
       "<style scoped>\n",
       "    .dataframe tbody tr th:only-of-type {\n",
       "        vertical-align: middle;\n",
       "    }\n",
       "\n",
       "    .dataframe tbody tr th {\n",
       "        vertical-align: top;\n",
       "    }\n",
       "\n",
       "    .dataframe thead th {\n",
       "        text-align: right;\n",
       "    }\n",
       "</style>\n",
       "<table border=\"1\" class=\"dataframe\">\n",
       "  <thead>\n",
       "    <tr style=\"text-align: right;\">\n",
       "      <th></th>\n",
       "      <th>vacuum</th>\n",
       "      <th>supercell</th>\n",
       "      <th>N</th>\n",
       "      <th>1/N</th>\n",
       "      <th>E_def</th>\n",
       "      <th>E_bulk</th>\n",
       "    </tr>\n",
       "  </thead>\n",
       "  <tbody>\n",
       "    <tr>\n",
       "      <th>0</th>\n",
       "      <td>vac_15</td>\n",
       "      <td>3x3x1</td>\n",
       "      <td>27</td>\n",
       "      <td>0.037037</td>\n",
       "      <td>-189.728601</td>\n",
       "      <td>-196.531426</td>\n",
       "    </tr>\n",
       "    <tr>\n",
       "      <th>1</th>\n",
       "      <td>vac_20</td>\n",
       "      <td>3x3x1</td>\n",
       "      <td>27</td>\n",
       "      <td>0.037037</td>\n",
       "      <td>-189.725299</td>\n",
       "      <td>-196.528449</td>\n",
       "    </tr>\n",
       "    <tr>\n",
       "      <th>2</th>\n",
       "      <td>vac_20</td>\n",
       "      <td>4x4x1</td>\n",
       "      <td>48</td>\n",
       "      <td>0.020833</td>\n",
       "      <td>-342.600831</td>\n",
       "      <td>-349.384544</td>\n",
       "    </tr>\n",
       "  </tbody>\n",
       "</table>\n",
       "</div>"
      ],
      "text/plain": [
       "   vacuum supercell   N       1/N       E_def      E_bulk\n",
       "0  vac_15     3x3x1  27  0.037037 -189.728601 -196.531426\n",
       "1  vac_20     3x3x1  27  0.037037 -189.725299 -196.528449\n",
       "2  vac_20     4x4x1  48  0.020833 -342.600831 -349.384544"
      ]
     },
     "metadata": {},
     "output_type": "display_data"
    },
    {
     "name": "stdout",
     "output_type": "stream",
     "text": [
      "charge_-1\n"
     ]
    },
    {
     "data": {
      "text/html": [
       "<div>\n",
       "<style scoped>\n",
       "    .dataframe tbody tr th:only-of-type {\n",
       "        vertical-align: middle;\n",
       "    }\n",
       "\n",
       "    .dataframe tbody tr th {\n",
       "        vertical-align: top;\n",
       "    }\n",
       "\n",
       "    .dataframe thead th {\n",
       "        text-align: right;\n",
       "    }\n",
       "</style>\n",
       "<table border=\"1\" class=\"dataframe\">\n",
       "  <thead>\n",
       "    <tr style=\"text-align: right;\">\n",
       "      <th></th>\n",
       "      <th>vacuum</th>\n",
       "      <th>supercell</th>\n",
       "      <th>N</th>\n",
       "      <th>1/N</th>\n",
       "      <th>E_def</th>\n",
       "      <th>E_bulk</th>\n",
       "    </tr>\n",
       "  </thead>\n",
       "  <tbody>\n",
       "    <tr>\n",
       "      <th>0</th>\n",
       "      <td>vac_15</td>\n",
       "      <td>3x3x1</td>\n",
       "      <td>27</td>\n",
       "      <td>0.037037</td>\n",
       "      <td>-189.757534</td>\n",
       "      <td>-196.531426</td>\n",
       "    </tr>\n",
       "    <tr>\n",
       "      <th>1</th>\n",
       "      <td>vac_20</td>\n",
       "      <td>3x3x1</td>\n",
       "      <td>27</td>\n",
       "      <td>0.037037</td>\n",
       "      <td>-190.233532</td>\n",
       "      <td>-196.528449</td>\n",
       "    </tr>\n",
       "    <tr>\n",
       "      <th>2</th>\n",
       "      <td>vac_20</td>\n",
       "      <td>4x4x1</td>\n",
       "      <td>48</td>\n",
       "      <td>0.020833</td>\n",
       "      <td>-343.515495</td>\n",
       "      <td>-349.384544</td>\n",
       "    </tr>\n",
       "  </tbody>\n",
       "</table>\n",
       "</div>"
      ],
      "text/plain": [
       "   vacuum supercell   N       1/N       E_def      E_bulk\n",
       "0  vac_15     3x3x1  27  0.037037 -189.757534 -196.531426\n",
       "1  vac_20     3x3x1  27  0.037037 -190.233532 -196.528449\n",
       "2  vac_20     4x4x1  48  0.020833 -343.515495 -349.384544"
      ]
     },
     "metadata": {},
     "output_type": "display_data"
    },
    {
     "name": "stdout",
     "output_type": "stream",
     "text": [
      "charge_1\n"
     ]
    },
    {
     "data": {
      "text/html": [
       "<div>\n",
       "<style scoped>\n",
       "    .dataframe tbody tr th:only-of-type {\n",
       "        vertical-align: middle;\n",
       "    }\n",
       "\n",
       "    .dataframe tbody tr th {\n",
       "        vertical-align: top;\n",
       "    }\n",
       "\n",
       "    .dataframe thead th {\n",
       "        text-align: right;\n",
       "    }\n",
       "</style>\n",
       "<table border=\"1\" class=\"dataframe\">\n",
       "  <thead>\n",
       "    <tr style=\"text-align: right;\">\n",
       "      <th></th>\n",
       "      <th>vacuum</th>\n",
       "      <th>supercell</th>\n",
       "      <th>N</th>\n",
       "      <th>1/N</th>\n",
       "      <th>E_def</th>\n",
       "      <th>E_bulk</th>\n",
       "    </tr>\n",
       "  </thead>\n",
       "  <tbody>\n",
       "    <tr>\n",
       "      <th>0</th>\n",
       "      <td>vac_15</td>\n",
       "      <td>3x3x1</td>\n",
       "      <td>27</td>\n",
       "      <td>0.037037</td>\n",
       "      <td>-187.400635</td>\n",
       "      <td>-196.531426</td>\n",
       "    </tr>\n",
       "    <tr>\n",
       "      <th>1</th>\n",
       "      <td>vac_20</td>\n",
       "      <td>3x3x1</td>\n",
       "      <td>27</td>\n",
       "      <td>0.037037</td>\n",
       "      <td>-186.104404</td>\n",
       "      <td>-196.528449</td>\n",
       "    </tr>\n",
       "    <tr>\n",
       "      <th>2</th>\n",
       "      <td>vac_20</td>\n",
       "      <td>4x4x1</td>\n",
       "      <td>48</td>\n",
       "      <td>0.020833</td>\n",
       "      <td>-339.461205</td>\n",
       "      <td>-349.384544</td>\n",
       "    </tr>\n",
       "  </tbody>\n",
       "</table>\n",
       "</div>"
      ],
      "text/plain": [
       "   vacuum supercell   N       1/N       E_def      E_bulk\n",
       "0  vac_15     3x3x1  27  0.037037 -187.400635 -196.531426\n",
       "1  vac_20     3x3x1  27  0.037037 -186.104404 -196.528449\n",
       "2  vac_20     4x4x1  48  0.020833 -339.461205 -349.384544"
      ]
     },
     "metadata": {},
     "output_type": "display_data"
    }
   ],
   "source": [
    "df = pandas.read_excel(\"Eform_Svac.xlsx\", sheet_name=None)\n",
    "for q in df.keys():\n",
    "    print (q)\n",
    "    display(df[q])"
   ]
  },
  {
   "cell_type": "markdown",
   "metadata": {},
   "source": [
    "* Next, we will need the relevant chemical potential(s) and VBM energies (we will evaluate the defect formation energies first at $E_{\\textrm{F}} = E_{\\textrm{VBM}}$ before taking into account the Fermi energy dependence). \\\n",
    "These quantities can be manually extracted from the unit cell calculations you have performed in previous steps, plugged into the equation, and the uncorrected defect formation energy evaluated in this way."
   ]
  },
  {
   "cell_type": "markdown",
   "metadata": {},
   "source": [
    "* However, I will demonstrate how this can be done in a more automated manner IF we have previously calculated and stored these values in a database (e.g. Materials Web, which we hope to do). Since such a database does not yet exist, I have made a \"mock database\" at `/orange/hennig/annemarietan/precalculated_for_demo/minidb` with entries of the following form:"
   ]
  },
  {
   "cell_type": "code",
   "execution_count": 44,
   "metadata": {},
   "outputs": [
    {
     "name": "stdout",
     "output_type": "stream",
     "text": [
      "/orange/hennig/annemarietan/precalculated_for_demo/minidb\n",
      "{\r\n",
      "    \"GGA\": {\r\n",
      "        \"mu\": -21.83641285,\r\n",
      "        \"eps_ave\": 17.18,\r\n",
      "        \"d_slab\": 5.4,\r\n",
      "        \"Egap\": 1.6787999999999998,\r\n",
      "        \"vac_10\": {\r\n",
      "            \"VBM\": -0.0395\r\n",
      "        },\r\n",
      "        \"vac_15\": {\r\n",
      "            \"VBM\": -1.6657\r\n",
      "        },\r\n",
      "        \"vac_20\": {\r\n",
      "            \"VBM\": -2.5881\r\n",
      "        }\r\n",
      "    }\r\n",
      "}"
     ]
    }
   ],
   "source": [
    "%cd /orange/hennig/annemarietan/precalculated_for_demo/minidb\n",
    "\n",
    "%cat MoS2.json # database entry for monolayer MoS2"
   ]
  },
  {
   "cell_type": "code",
   "execution_count": 45,
   "metadata": {},
   "outputs": [
    {
     "name": "stdout",
     "output_type": "stream",
     "text": [
      "{\r\n",
      "    \"GGA\": {\r\n",
      "        \"mu\": -10.9232799,\r\n",
      "        \"Egap\": 0,\r\n",
      "        \"VBM\": 12.3728\r\n",
      "    }\r\n",
      "}"
     ]
    }
   ],
   "source": [
    "%cat Mo.json # database entry for BCC Mo"
   ]
  },
  {
   "cell_type": "code",
   "execution_count": 46,
   "metadata": {},
   "outputs": [
    {
     "name": "stdout",
     "output_type": "stream",
     "text": [
      "{\r\n",
      "    \"GGA\": {\r\n",
      "        \"mu_Mo-rich (0.5*MoS2-0.5*Mo)\": -5.456566475\r\n",
      "    }\r\n",
      "}"
     ]
    }
   ],
   "source": [
    "%cat S.json # database entry for S"
   ]
  },
  {
   "cell_type": "markdown",
   "metadata": {},
   "source": [
    "Note that for S, the chemical potential value has been derived from the equation for the Mo-rich limit (see Section 3 above), and does not reflect the energy of a particular phase of elemental S. Hence, by plugging this value into the equation for the defect formation energy, we will be evaluating the formation energy specifically in the Mo-rich (S-poor) limit."
   ]
  },
  {
   "cell_type": "markdown",
   "metadata": {},
   "source": [
    "* The following python script uses the total energies stored in the above pandas dataframe and the chemical potential(s) and VBMs from the database to evaluate the first 4 terms in the equation for the defect formation energy, i.e. the defect formation energy before adding the correction term. "
   ]
  },
  {
   "cell_type": "code",
   "execution_count": 60,
   "metadata": {},
   "outputs": [
    {
     "name": "stderr",
     "output_type": "stream",
     "text": [
      "INFO:Atoms added/removed: -1*S\n",
      "INFO:Using chemical potential mu_Mo-rich (0.5*MoS2-0.5*Mo) from S.json\n",
      "INFO:Using chemical potential mu_Mo-rich (0.5*MoS2-0.5*Mo) from S.json\n",
      "INFO:Using chemical potential mu_Mo-rich (0.5*MoS2-0.5*Mo) from S.json\n"
     ]
    },
    {
     "name": "stdout",
     "output_type": "stream",
     "text": [
      "/orange/hennig/annemarietan/precalculated_for_demo/MoS2/Svac/GGA\n"
     ]
    }
   ],
   "source": [
    "%cd /orange/hennig/annemarietan/precalculated_for_demo/MoS2/Svac/GGA\n",
    "\n",
    "calc_Eform_uncorr.calc(\"MoS2\",\n",
    "                       \"/orange/hennig/annemarietan/precalculated_for_demo/minidb\",\n",
    "                       \"/orange/hennig/annemarietan/precalculated_for_demo/MoS2/Svac/GGA/\",\n",
    "                        \"Eform_Svac.xlsx\",\n",
    "                        \"Mo-rich\")\n",
    "# python calc_Eform_uncorr.py MoS2 /path/to/database /path/to/Svac/GGA Eform_Svac.xlsx Mo-rich"
   ]
  },
  {
   "cell_type": "code",
   "execution_count": 62,
   "metadata": {},
   "outputs": [
    {
     "name": "stdout",
     "output_type": "stream",
     "text": [
      "charge_0\n"
     ]
    },
    {
     "data": {
      "text/html": [
       "<div>\n",
       "<style scoped>\n",
       "    .dataframe tbody tr th:only-of-type {\n",
       "        vertical-align: middle;\n",
       "    }\n",
       "\n",
       "    .dataframe tbody tr th {\n",
       "        vertical-align: top;\n",
       "    }\n",
       "\n",
       "    .dataframe thead th {\n",
       "        text-align: right;\n",
       "    }\n",
       "</style>\n",
       "<table border=\"1\" class=\"dataframe\">\n",
       "  <thead>\n",
       "    <tr style=\"text-align: right;\">\n",
       "      <th></th>\n",
       "      <th>vacuum</th>\n",
       "      <th>supercell</th>\n",
       "      <th>N</th>\n",
       "      <th>1/N</th>\n",
       "      <th>E_def</th>\n",
       "      <th>E_bulk</th>\n",
       "      <th>mu_S_Mo-rich</th>\n",
       "      <th>VBM</th>\n",
       "      <th>E_form_corr</th>\n",
       "    </tr>\n",
       "  </thead>\n",
       "  <tbody>\n",
       "    <tr>\n",
       "      <th>0</th>\n",
       "      <td>vac_15</td>\n",
       "      <td>3x3x1</td>\n",
       "      <td>27</td>\n",
       "      <td>0.037037</td>\n",
       "      <td>-189.728601</td>\n",
       "      <td>-196.531426</td>\n",
       "      <td>-5.456566</td>\n",
       "      <td>-1.6657</td>\n",
       "      <td>1.346259</td>\n",
       "    </tr>\n",
       "    <tr>\n",
       "      <th>1</th>\n",
       "      <td>vac_20</td>\n",
       "      <td>3x3x1</td>\n",
       "      <td>27</td>\n",
       "      <td>0.037037</td>\n",
       "      <td>-189.725299</td>\n",
       "      <td>-196.528449</td>\n",
       "      <td>-5.456566</td>\n",
       "      <td>-2.5881</td>\n",
       "      <td>1.346584</td>\n",
       "    </tr>\n",
       "    <tr>\n",
       "      <th>2</th>\n",
       "      <td>vac_20</td>\n",
       "      <td>4x4x1</td>\n",
       "      <td>48</td>\n",
       "      <td>0.020833</td>\n",
       "      <td>-342.600831</td>\n",
       "      <td>-349.384544</td>\n",
       "      <td>-5.456566</td>\n",
       "      <td>-2.5881</td>\n",
       "      <td>1.327147</td>\n",
       "    </tr>\n",
       "  </tbody>\n",
       "</table>\n",
       "</div>"
      ],
      "text/plain": [
       "   vacuum supercell   N       1/N       E_def      E_bulk  mu_S_Mo-rich  \\\n",
       "0  vac_15     3x3x1  27  0.037037 -189.728601 -196.531426     -5.456566   \n",
       "1  vac_20     3x3x1  27  0.037037 -189.725299 -196.528449     -5.456566   \n",
       "2  vac_20     4x4x1  48  0.020833 -342.600831 -349.384544     -5.456566   \n",
       "\n",
       "      VBM  E_form_corr  \n",
       "0 -1.6657     1.346259  \n",
       "1 -2.5881     1.346584  \n",
       "2 -2.5881     1.327147  "
      ]
     },
     "metadata": {},
     "output_type": "display_data"
    },
    {
     "name": "stdout",
     "output_type": "stream",
     "text": [
      "charge_-1\n"
     ]
    },
    {
     "data": {
      "text/html": [
       "<div>\n",
       "<style scoped>\n",
       "    .dataframe tbody tr th:only-of-type {\n",
       "        vertical-align: middle;\n",
       "    }\n",
       "\n",
       "    .dataframe tbody tr th {\n",
       "        vertical-align: top;\n",
       "    }\n",
       "\n",
       "    .dataframe thead th {\n",
       "        text-align: right;\n",
       "    }\n",
       "</style>\n",
       "<table border=\"1\" class=\"dataframe\">\n",
       "  <thead>\n",
       "    <tr style=\"text-align: right;\">\n",
       "      <th></th>\n",
       "      <th>vacuum</th>\n",
       "      <th>supercell</th>\n",
       "      <th>N</th>\n",
       "      <th>1/N</th>\n",
       "      <th>E_def</th>\n",
       "      <th>E_bulk</th>\n",
       "      <th>mu_S_Mo-rich</th>\n",
       "      <th>VBM</th>\n",
       "      <th>E_form_uncorr</th>\n",
       "    </tr>\n",
       "  </thead>\n",
       "  <tbody>\n",
       "    <tr>\n",
       "      <th>0</th>\n",
       "      <td>vac_15</td>\n",
       "      <td>3x3x1</td>\n",
       "      <td>27</td>\n",
       "      <td>0.037037</td>\n",
       "      <td>-189.757534</td>\n",
       "      <td>-196.531426</td>\n",
       "      <td>-5.456566</td>\n",
       "      <td>-1.6657</td>\n",
       "      <td>2.983025</td>\n",
       "    </tr>\n",
       "    <tr>\n",
       "      <th>1</th>\n",
       "      <td>vac_20</td>\n",
       "      <td>3x3x1</td>\n",
       "      <td>27</td>\n",
       "      <td>0.037037</td>\n",
       "      <td>-190.233532</td>\n",
       "      <td>-196.528449</td>\n",
       "      <td>-5.456566</td>\n",
       "      <td>-2.5881</td>\n",
       "      <td>3.426451</td>\n",
       "    </tr>\n",
       "    <tr>\n",
       "      <th>2</th>\n",
       "      <td>vac_20</td>\n",
       "      <td>4x4x1</td>\n",
       "      <td>48</td>\n",
       "      <td>0.020833</td>\n",
       "      <td>-343.515495</td>\n",
       "      <td>-349.384544</td>\n",
       "      <td>-5.456566</td>\n",
       "      <td>-2.5881</td>\n",
       "      <td>3.000583</td>\n",
       "    </tr>\n",
       "  </tbody>\n",
       "</table>\n",
       "</div>"
      ],
      "text/plain": [
       "   vacuum supercell   N       1/N       E_def      E_bulk  mu_S_Mo-rich  \\\n",
       "0  vac_15     3x3x1  27  0.037037 -189.757534 -196.531426     -5.456566   \n",
       "1  vac_20     3x3x1  27  0.037037 -190.233532 -196.528449     -5.456566   \n",
       "2  vac_20     4x4x1  48  0.020833 -343.515495 -349.384544     -5.456566   \n",
       "\n",
       "      VBM  E_form_uncorr  \n",
       "0 -1.6657       2.983025  \n",
       "1 -2.5881       3.426451  \n",
       "2 -2.5881       3.000583  "
      ]
     },
     "metadata": {},
     "output_type": "display_data"
    },
    {
     "name": "stdout",
     "output_type": "stream",
     "text": [
      "charge_1\n"
     ]
    },
    {
     "data": {
      "text/html": [
       "<div>\n",
       "<style scoped>\n",
       "    .dataframe tbody tr th:only-of-type {\n",
       "        vertical-align: middle;\n",
       "    }\n",
       "\n",
       "    .dataframe tbody tr th {\n",
       "        vertical-align: top;\n",
       "    }\n",
       "\n",
       "    .dataframe thead th {\n",
       "        text-align: right;\n",
       "    }\n",
       "</style>\n",
       "<table border=\"1\" class=\"dataframe\">\n",
       "  <thead>\n",
       "    <tr style=\"text-align: right;\">\n",
       "      <th></th>\n",
       "      <th>vacuum</th>\n",
       "      <th>supercell</th>\n",
       "      <th>N</th>\n",
       "      <th>1/N</th>\n",
       "      <th>E_def</th>\n",
       "      <th>E_bulk</th>\n",
       "      <th>mu_S_Mo-rich</th>\n",
       "      <th>VBM</th>\n",
       "      <th>E_form_uncorr</th>\n",
       "    </tr>\n",
       "  </thead>\n",
       "  <tbody>\n",
       "    <tr>\n",
       "      <th>0</th>\n",
       "      <td>vac_15</td>\n",
       "      <td>3x3x1</td>\n",
       "      <td>27</td>\n",
       "      <td>0.037037</td>\n",
       "      <td>-187.400635</td>\n",
       "      <td>-196.531426</td>\n",
       "      <td>-5.456566</td>\n",
       "      <td>-1.6657</td>\n",
       "      <td>2.008525</td>\n",
       "    </tr>\n",
       "    <tr>\n",
       "      <th>1</th>\n",
       "      <td>vac_20</td>\n",
       "      <td>3x3x1</td>\n",
       "      <td>27</td>\n",
       "      <td>0.037037</td>\n",
       "      <td>-186.104404</td>\n",
       "      <td>-196.528449</td>\n",
       "      <td>-5.456566</td>\n",
       "      <td>-2.5881</td>\n",
       "      <td>2.379379</td>\n",
       "    </tr>\n",
       "    <tr>\n",
       "      <th>2</th>\n",
       "      <td>vac_20</td>\n",
       "      <td>4x4x1</td>\n",
       "      <td>48</td>\n",
       "      <td>0.020833</td>\n",
       "      <td>-339.461205</td>\n",
       "      <td>-349.384544</td>\n",
       "      <td>-5.456566</td>\n",
       "      <td>-2.5881</td>\n",
       "      <td>1.878673</td>\n",
       "    </tr>\n",
       "  </tbody>\n",
       "</table>\n",
       "</div>"
      ],
      "text/plain": [
       "   vacuum supercell   N       1/N       E_def      E_bulk  mu_S_Mo-rich  \\\n",
       "0  vac_15     3x3x1  27  0.037037 -187.400635 -196.531426     -5.456566   \n",
       "1  vac_20     3x3x1  27  0.037037 -186.104404 -196.528449     -5.456566   \n",
       "2  vac_20     4x4x1  48  0.020833 -339.461205 -349.384544     -5.456566   \n",
       "\n",
       "      VBM  E_form_uncorr  \n",
       "0 -1.6657       2.008525  \n",
       "1 -2.5881       2.379379  \n",
       "2 -2.5881       1.878673  "
      ]
     },
     "metadata": {},
     "output_type": "display_data"
    }
   ],
   "source": [
    "df = pandas.read_excel(\"Eform_Svac.xlsx\", sheet_name=None)\n",
    "for q in df.keys():\n",
    "    print (q)\n",
    "    display(df[q])"
   ]
  },
  {
   "cell_type": "markdown",
   "metadata": {},
   "source": [
    "You should notice that the formation energy for the neutral defect is pretty well-converged (e.g. within 10s of meV) across all supercell sizes and vacuum spacings. A slight in-plane supercell size dependence is to be expected due to the (mostly elastic) interactions between the defect and its periodic images, which decreases with increasing in-plane supercell size. The vacuum dependence should be negligible in the case of the neutral defect.\n",
    "\n",
    "However, you should see that this is NOT the case for either of the charged defects! The uncorrected formation energy for the charged defects diverges, especially with respect to vacuum spacing. This has to do with the uniform compensating background charge implicitly introduced by VASP during the calculation to neutralize the supercell, which gives rise to an unphysical quadratic potential in the vacuum region, leading to an unphysical linear divergence in the energy of charged systems.\n",
    "\n",
    "*This is why we need to include the correction term!* So, we press on..."
   ]
  },
  {
   "cell_type": "markdown",
   "metadata": {},
   "source": [
    "### 5.      Evaluating the charge correction:"
   ]
  },
  {
   "cell_type": "markdown",
   "metadata": {},
   "source": [
    "We will utilize the [charge correction method developed by Freysoldt and Neugebauer](https://doi.org/10.1103/PhysRevB.97.205425) to determine the correction $E_{\\textrm{corr}}$ which corrects for the artefacts introduced by treating charged defects in the periodic supercell approach. Put simply, this method constructs a surrogate model system in which the charge is approximated by a gaussian charge, and calculates the extra energy contributions due to the constraints of the periodic supercell approach acting on this surrogate model system as an estimate for the effect of these constraints on the true DFT system. Please refer to the paper linked above for more details."
   ]
  },
  {
   "cell_type": "markdown",
   "metadata": {},
   "source": [
    "* Download the sxdefectalign2d executable from https://sxrepo.mpie.de/projects/sphinx-add-ons/files and place it in your home directory on hipergator so that it is accessible at `~/sxdefectalign2d`. If you place it somewhere else, you will have to change the default path in the `get_alignment_correction_2d.py` script."
   ]
  },
  {
   "cell_type": "markdown",
   "metadata": {},
   "source": [
    "* Run the following python script to apply the correction scheme (this will take a few minutes so be patient):"
   ]
  },
  {
   "cell_type": "code",
   "execution_count": 11,
   "metadata": {},
   "outputs": [
    {
     "name": "stderr",
     "output_type": "stream",
     "text": [
      "INFO:Using slab properties from /orange/hennig/annemarietan/precalculated_for_demo/minidb/MoS2.json\n",
      "INFO:eps_slab: 17.18 ; d_slab: 5.40\n",
      "INFO:applying correction to calculations in /orange/hennig/annemarietan/precalculated_for_demo/MoS2/Svac/GGA/charge_-1/3x3x1/vac_15/\n"
     ]
    },
    {
     "name": "stdout",
     "output_type": "stream",
     "text": [
      "/orange/hennig/annemarietan/precalculated_for_demo/MoS2/Svac/GGA\n"
     ]
    },
    {
     "name": "stderr",
     "output_type": "stream",
     "text": [
      "INFO:shift charge in +z direction; try shift = 1.00000000\n",
      "INFO:shift charge in +z direction; try shift = 2.00000000\n",
      "INFO:shift charge in +z direction; try shift = 3.00000000\n",
      "INFO:shift charge in +z direction; try shift = 4.00000000\n",
      "INFO:shift charge in -z direction; try shift = 3.50000000\n",
      "INFO:shift charge in -z direction; try shift = 3.25000000\n",
      "INFO:shift charge in +z direction; try shift = 3.37500000\n",
      "INFO:shift charge in -z direction; try shift = 3.31250000\n",
      "INFO:DONE! shift = 3.31250000 & alignment correction = -0.11550000\n",
      "INFO:applying correction to calculations in /orange/hennig/annemarietan/precalculated_for_demo/MoS2/Svac/GGA/charge_-1/3x3x1/vac_20/\n",
      "INFO:shift charge in +z direction; try shift = 1.00000000\n",
      "INFO:shift charge in +z direction; try shift = 2.00000000\n",
      "INFO:shift charge in +z direction; try shift = 3.00000000\n",
      "INFO:shift charge in +z direction; try shift = 4.00000000\n",
      "INFO:shift charge in -z direction; try shift = 3.50000000\n",
      "INFO:shift charge in -z direction; try shift = 3.25000000\n",
      "INFO:shift charge in +z direction; try shift = 3.37500000\n",
      "INFO:shift charge in +z direction; try shift = 3.43750000\n",
      "INFO:DONE! shift = 3.43750000 & alignment correction = -0.08690000\n",
      "INFO:applying correction to calculations in /orange/hennig/annemarietan/precalculated_for_demo/MoS2/Svac/GGA/charge_-1/4x4x1/vac_20/\n",
      "INFO:shift charge in +z direction; try shift = 1.00000000\n",
      "INFO:shift charge in +z direction; try shift = 2.00000000\n",
      "INFO:shift charge in +z direction; try shift = 3.00000000\n",
      "INFO:shift charge in +z direction; try shift = 4.00000000\n",
      "INFO:shift charge in -z direction; try shift = 3.50000000\n",
      "INFO:shift charge in -z direction; try shift = 3.25000000\n",
      "INFO:shift charge in -z direction; try shift = 3.12500000\n",
      "INFO:shift charge in -z direction; try shift = 3.06250000\n",
      "INFO:DONE! shift = 3.06250000 & alignment correction = -0.05117667\n",
      "INFO:applying correction to calculations in /orange/hennig/annemarietan/precalculated_for_demo/MoS2/Svac/GGA/charge_1/3x3x1/vac_15/\n",
      "INFO:shift charge in +z direction; try shift = 1.00000000\n",
      "INFO:shift charge in +z direction; try shift = 2.00000000\n",
      "INFO:shift charge in +z direction; try shift = 3.00000000\n",
      "INFO:shift charge in -z direction; try shift = 2.50000000\n",
      "INFO:shift charge in -z direction; try shift = 2.25000000\n",
      "INFO:shift charge in -z direction; try shift = 2.12500000\n",
      "INFO:shift charge in +z direction; try shift = 2.18750000\n",
      "INFO:DONE! shift = 2.18750000 & alignment correction = -0.13600778\n",
      "INFO:applying correction to calculations in /orange/hennig/annemarietan/precalculated_for_demo/MoS2/Svac/GGA/charge_1/3x3x1/vac_20/\n",
      "INFO:shift charge in +z direction; try shift = 1.00000000\n",
      "INFO:shift charge in +z direction; try shift = 2.00000000\n",
      "INFO:shift charge in +z direction; try shift = 3.00000000\n",
      "INFO:shift charge in -z direction; try shift = 2.50000000\n",
      "INFO:shift charge in -z direction; try shift = 2.25000000\n",
      "INFO:DONE! shift = 2.25000000 & alignment correction = -0.10560000\n",
      "INFO:applying correction to calculations in /orange/hennig/annemarietan/precalculated_for_demo/MoS2/Svac/GGA/charge_1/4x4x1/vac_20/\n",
      "INFO:shift charge in +z direction; try shift = 1.00000000\n",
      "INFO:shift charge in +z direction; try shift = 2.00000000\n",
      "INFO:shift charge in +z direction; try shift = 3.00000000\n",
      "INFO:shift charge in -z direction; try shift = 2.50000000\n",
      "INFO:shift charge in -z direction; try shift = 2.25000000\n",
      "INFO:shift charge in -z direction; try shift = 2.12500000\n",
      "INFO:DONE! shift = 2.12500000 & alignment correction = -0.06509306\n"
     ]
    }
   ],
   "source": [
    "%cd /orange/hennig/annemarietan/precalculated_for_demo/MoS2/Svac/GGA\n",
    "\n",
    "apply_corrections_2d.apply_all(\"/orange/hennig/annemarietan/precalculated_for_demo/MoS2/Svac/GGA/\",\n",
    "                               \"/orange/hennig/annemarietan/precalculated_for_demo/MoS2/pristine/GGA/\",\n",
    "                               dbentry=\"/orange/hennig/annemarietan/precalculated_for_demo/minidb/MoS2.json\")\n",
    "# python /path/to/apply_corrections_2d.py /path/to/Svac/GGA /path/to/pristineref/GGA --dbentry <>\n",
    "# or\n",
    "# python /path/to/apply_corrections_2d.py /path/to/Svac/GGA /path/to/pristineref/GGA --eps_slab <> --d_slab <>"
   ]
  },
  {
   "cell_type": "markdown",
   "metadata": {},
   "source": [
    "You will notice that there's a lot of \"shifting\" of a charge going on as the correction scheme is being applied. Essentially, what we're trying to do here is to determine the effective position of the model gaussian charge such that the long-range potential generated by the model system matches that in our DFT system as best as possible, so that the correction energy evaluated using the model system will be a good estimate for the correction energy of our actual system."
   ]
  },
  {
   "cell_type": "markdown",
   "metadata": {},
   "source": [
    "* Let's take a look at the outputs from applying the correction scheme:"
   ]
  },
  {
   "cell_type": "code",
   "execution_count": 12,
   "metadata": {},
   "outputs": [
    {
     "name": "stdout",
     "output_type": "stream",
     "text": [
      "/orange/hennig/annemarietan/precalculated_for_demo/MoS2/Svac/GGA/charge_-1/4x4x1/vac_20/correction\n",
      "alignment_0.png  alignment_4.png  alignment_8.png     system.sx\r\n",
      "alignment_1.png  alignment_5.png  correction          vline-eV.dat\r\n",
      "alignment_2.png  alignment_6.png  getalign.log\r\n",
      "alignment_3.png  alignment_7.png  system-profile.dat\r\n"
     ]
    }
   ],
   "source": [
    "%cd /orange/hennig/annemarietan/precalculated_for_demo/MoS2/Svac/GGA/charge_-1/4x4x1/vac_20/correction\n",
    "%ls"
   ]
  },
  {
   "cell_type": "markdown",
   "metadata": {},
   "source": [
    "* You can check the `alignment*.png` plots to verify that the model potential has been well aligned with the DFT potential. For the -1 charged S vacancy, the final plot should look something like this:\n",
    " <div>\n",
    "<img src=\"tutorial_images/alignment_8.png\" width=\"500\"/>\n",
    "</div>"
   ]
  },
  {
   "cell_type": "markdown",
   "metadata": {},
   "source": [
    "* The correction energy $E_\\textrm{corr}$ can be found in the last line of the `correction` file:"
   ]
  },
  {
   "cell_type": "code",
   "execution_count": 13,
   "metadata": {},
   "outputs": [
    {
     "name": "stdout",
     "output_type": "stream",
     "text": [
      "VASP mesh: 192 x 192 x 360\r\n",
      "cell defect = [a1={24.0422,0,0},a2={-12.0211,20.8212,0},a3={0,0,43.6716}]\r\n",
      "VASP mesh: 192 x 192 x 360\r\n",
      "cell bulk = [a1={24.0422,0,0},a2={-12.0211,20.8212,0},a3={0,0,43.6716}]\r\n",
      "Cutoff = 38.2193 Ry\r\n",
      "N = 176\r\n",
      "Shifting charge by 3.0625\r\n",
      "Shifting potential by -0.0511767 eV\r\n",
      "--- Periodic\r\n",
      "Q=1\r\n",
      "--- Isolated\r\n",
      "Isolated from 10.917915075 to 32.753745225 (88 points)\r\n",
      "Q=1\r\n",
      "No dielectric interface detected.\r\n",
      "Dielectric position shift: -9.61056400233\r\n",
      "zL = 10.917915075 eps = 1\r\n",
      "E-field dependence left:  zeff = 17.0370427967\r\n",
      "zR = 32.753745225 eps = 1\r\n",
      "E-field dependence right: zeff = 26.647606799\r\n",
      "---\r\n",
      "isolated energy = 0.84637625122 eV\r\n",
      "periodic energy = 0.889408779309 eV\r\n",
      "iso - periodic energy = -0.0430325280888 eV\r\n"
     ]
    }
   ],
   "source": [
    "%cat correction"
   ]
  },
  {
   "cell_type": "markdown",
   "metadata": {},
   "source": [
    "* The following python script parses the correction term from each of the `correction` files and inserts them accordingly into the same pandas dataframe/excel file as before:"
   ]
  },
  {
   "cell_type": "code",
   "execution_count": 18,
   "metadata": {},
   "outputs": [
    {
     "name": "stderr",
     "output_type": "stream",
     "text": [
      "INFO:parsing charge_-1 3x3x1 vac_15\n",
      "INFO:parsing charge_-1 3x3x1 vac_20\n",
      "INFO:parsing charge_-1 4x4x1 vac_20\n",
      "INFO:parsing charge_1 3x3x1 vac_15\n",
      "INFO:parsing charge_1 3x3x1 vac_20\n",
      "INFO:parsing charge_1 4x4x1 vac_20\n"
     ]
    },
    {
     "name": "stdout",
     "output_type": "stream",
     "text": [
      "/orange/hennig/annemarietan/precalculated_for_demo/MoS2/Svac/GGA\n"
     ]
    }
   ],
   "source": [
    "%cd /orange/hennig/annemarietan/precalculated_for_demo/MoS2/Svac/GGA\n",
    "\n",
    "parse_corrections.parse(\"/orange/hennig/annemarietan/precalculated_for_demo/MoS2/Svac/GGA/\",\n",
    "                        \"Eform_Svac.xlsx\")\n",
    "# python /path/to/parse_corrections.py /path/to/Svac/GGA Eform_Svac.xlsx"
   ]
  },
  {
   "cell_type": "code",
   "execution_count": 19,
   "metadata": {},
   "outputs": [
    {
     "name": "stdout",
     "output_type": "stream",
     "text": [
      "charge_0\n"
     ]
    },
    {
     "data": {
      "text/html": [
       "<div>\n",
       "<style scoped>\n",
       "    .dataframe tbody tr th:only-of-type {\n",
       "        vertical-align: middle;\n",
       "    }\n",
       "\n",
       "    .dataframe tbody tr th {\n",
       "        vertical-align: top;\n",
       "    }\n",
       "\n",
       "    .dataframe thead th {\n",
       "        text-align: right;\n",
       "    }\n",
       "</style>\n",
       "<table border=\"1\" class=\"dataframe\">\n",
       "  <thead>\n",
       "    <tr style=\"text-align: right;\">\n",
       "      <th></th>\n",
       "      <th>vacuum</th>\n",
       "      <th>supercell</th>\n",
       "      <th>N</th>\n",
       "      <th>1/N</th>\n",
       "      <th>E_def</th>\n",
       "      <th>E_bulk</th>\n",
       "      <th>mu_S_Mo-rich</th>\n",
       "      <th>VBM</th>\n",
       "      <th>E_form_corr</th>\n",
       "    </tr>\n",
       "  </thead>\n",
       "  <tbody>\n",
       "    <tr>\n",
       "      <th>0</th>\n",
       "      <td>vac_15</td>\n",
       "      <td>3x3x1</td>\n",
       "      <td>27</td>\n",
       "      <td>0.037037</td>\n",
       "      <td>-189.728601</td>\n",
       "      <td>-196.531426</td>\n",
       "      <td>-5.456566</td>\n",
       "      <td>-1.6657</td>\n",
       "      <td>1.346259</td>\n",
       "    </tr>\n",
       "    <tr>\n",
       "      <th>1</th>\n",
       "      <td>vac_20</td>\n",
       "      <td>3x3x1</td>\n",
       "      <td>27</td>\n",
       "      <td>0.037037</td>\n",
       "      <td>-189.725299</td>\n",
       "      <td>-196.528449</td>\n",
       "      <td>-5.456566</td>\n",
       "      <td>-2.5881</td>\n",
       "      <td>1.346584</td>\n",
       "    </tr>\n",
       "    <tr>\n",
       "      <th>2</th>\n",
       "      <td>vac_20</td>\n",
       "      <td>4x4x1</td>\n",
       "      <td>48</td>\n",
       "      <td>0.020833</td>\n",
       "      <td>-342.600831</td>\n",
       "      <td>-349.384544</td>\n",
       "      <td>-5.456566</td>\n",
       "      <td>-2.5881</td>\n",
       "      <td>1.327147</td>\n",
       "    </tr>\n",
       "  </tbody>\n",
       "</table>\n",
       "</div>"
      ],
      "text/plain": [
       "   vacuum supercell   N       1/N       E_def      E_bulk  mu_S_Mo-rich  \\\n",
       "0  vac_15     3x3x1  27  0.037037 -189.728601 -196.531426     -5.456566   \n",
       "1  vac_20     3x3x1  27  0.037037 -189.725299 -196.528449     -5.456566   \n",
       "2  vac_20     4x4x1  48  0.020833 -342.600831 -349.384544     -5.456566   \n",
       "\n",
       "      VBM  E_form_corr  \n",
       "0 -1.6657     1.346259  \n",
       "1 -2.5881     1.346584  \n",
       "2 -2.5881     1.327147  "
      ]
     },
     "metadata": {},
     "output_type": "display_data"
    },
    {
     "name": "stdout",
     "output_type": "stream",
     "text": [
      "charge_-1\n"
     ]
    },
    {
     "data": {
      "text/html": [
       "<div>\n",
       "<style scoped>\n",
       "    .dataframe tbody tr th:only-of-type {\n",
       "        vertical-align: middle;\n",
       "    }\n",
       "\n",
       "    .dataframe tbody tr th {\n",
       "        vertical-align: top;\n",
       "    }\n",
       "\n",
       "    .dataframe thead th {\n",
       "        text-align: right;\n",
       "    }\n",
       "</style>\n",
       "<table border=\"1\" class=\"dataframe\">\n",
       "  <thead>\n",
       "    <tr style=\"text-align: right;\">\n",
       "      <th></th>\n",
       "      <th>vacuum</th>\n",
       "      <th>supercell</th>\n",
       "      <th>N</th>\n",
       "      <th>1/N</th>\n",
       "      <th>E_def</th>\n",
       "      <th>E_bulk</th>\n",
       "      <th>mu_S_Mo-rich</th>\n",
       "      <th>VBM</th>\n",
       "      <th>E_form_uncorr</th>\n",
       "      <th>E_corr</th>\n",
       "    </tr>\n",
       "  </thead>\n",
       "  <tbody>\n",
       "    <tr>\n",
       "      <th>0</th>\n",
       "      <td>vac_15</td>\n",
       "      <td>3x3x1</td>\n",
       "      <td>27</td>\n",
       "      <td>0.037037</td>\n",
       "      <td>-189.757534</td>\n",
       "      <td>-196.531426</td>\n",
       "      <td>-5.456566</td>\n",
       "      <td>-1.6657</td>\n",
       "      <td>2.983025</td>\n",
       "      <td>0.015273</td>\n",
       "    </tr>\n",
       "    <tr>\n",
       "      <th>1</th>\n",
       "      <td>vac_20</td>\n",
       "      <td>3x3x1</td>\n",
       "      <td>27</td>\n",
       "      <td>0.037037</td>\n",
       "      <td>-190.233532</td>\n",
       "      <td>-196.528449</td>\n",
       "      <td>-5.456566</td>\n",
       "      <td>-2.5881</td>\n",
       "      <td>3.426451</td>\n",
       "      <td>-0.413040</td>\n",
       "    </tr>\n",
       "    <tr>\n",
       "      <th>2</th>\n",
       "      <td>vac_20</td>\n",
       "      <td>4x4x1</td>\n",
       "      <td>48</td>\n",
       "      <td>0.020833</td>\n",
       "      <td>-343.515495</td>\n",
       "      <td>-349.384544</td>\n",
       "      <td>-5.456566</td>\n",
       "      <td>-2.5881</td>\n",
       "      <td>3.000583</td>\n",
       "      <td>-0.043033</td>\n",
       "    </tr>\n",
       "  </tbody>\n",
       "</table>\n",
       "</div>"
      ],
      "text/plain": [
       "   vacuum supercell   N       1/N       E_def      E_bulk  mu_S_Mo-rich  \\\n",
       "0  vac_15     3x3x1  27  0.037037 -189.757534 -196.531426     -5.456566   \n",
       "1  vac_20     3x3x1  27  0.037037 -190.233532 -196.528449     -5.456566   \n",
       "2  vac_20     4x4x1  48  0.020833 -343.515495 -349.384544     -5.456566   \n",
       "\n",
       "      VBM  E_form_uncorr    E_corr  \n",
       "0 -1.6657       2.983025  0.015273  \n",
       "1 -2.5881       3.426451 -0.413040  \n",
       "2 -2.5881       3.000583 -0.043033  "
      ]
     },
     "metadata": {},
     "output_type": "display_data"
    },
    {
     "name": "stdout",
     "output_type": "stream",
     "text": [
      "charge_1\n"
     ]
    },
    {
     "data": {
      "text/html": [
       "<div>\n",
       "<style scoped>\n",
       "    .dataframe tbody tr th:only-of-type {\n",
       "        vertical-align: middle;\n",
       "    }\n",
       "\n",
       "    .dataframe tbody tr th {\n",
       "        vertical-align: top;\n",
       "    }\n",
       "\n",
       "    .dataframe thead th {\n",
       "        text-align: right;\n",
       "    }\n",
       "</style>\n",
       "<table border=\"1\" class=\"dataframe\">\n",
       "  <thead>\n",
       "    <tr style=\"text-align: right;\">\n",
       "      <th></th>\n",
       "      <th>vacuum</th>\n",
       "      <th>supercell</th>\n",
       "      <th>N</th>\n",
       "      <th>1/N</th>\n",
       "      <th>E_def</th>\n",
       "      <th>E_bulk</th>\n",
       "      <th>mu_S_Mo-rich</th>\n",
       "      <th>VBM</th>\n",
       "      <th>E_form_uncorr</th>\n",
       "      <th>E_corr</th>\n",
       "    </tr>\n",
       "  </thead>\n",
       "  <tbody>\n",
       "    <tr>\n",
       "      <th>0</th>\n",
       "      <td>vac_15</td>\n",
       "      <td>3x3x1</td>\n",
       "      <td>27</td>\n",
       "      <td>0.037037</td>\n",
       "      <td>-187.400635</td>\n",
       "      <td>-196.531426</td>\n",
       "      <td>-5.456566</td>\n",
       "      <td>-1.6657</td>\n",
       "      <td>2.008525</td>\n",
       "      <td>-0.235181</td>\n",
       "    </tr>\n",
       "    <tr>\n",
       "      <th>1</th>\n",
       "      <td>vac_20</td>\n",
       "      <td>3x3x1</td>\n",
       "      <td>27</td>\n",
       "      <td>0.037037</td>\n",
       "      <td>-186.104404</td>\n",
       "      <td>-196.528449</td>\n",
       "      <td>-5.456566</td>\n",
       "      <td>-2.5881</td>\n",
       "      <td>2.379379</td>\n",
       "      <td>-0.604896</td>\n",
       "    </tr>\n",
       "    <tr>\n",
       "      <th>2</th>\n",
       "      <td>vac_20</td>\n",
       "      <td>4x4x1</td>\n",
       "      <td>48</td>\n",
       "      <td>0.020833</td>\n",
       "      <td>-339.461205</td>\n",
       "      <td>-349.384544</td>\n",
       "      <td>-5.456566</td>\n",
       "      <td>-2.5881</td>\n",
       "      <td>1.878673</td>\n",
       "      <td>-0.158326</td>\n",
       "    </tr>\n",
       "  </tbody>\n",
       "</table>\n",
       "</div>"
      ],
      "text/plain": [
       "   vacuum supercell   N       1/N       E_def      E_bulk  mu_S_Mo-rich  \\\n",
       "0  vac_15     3x3x1  27  0.037037 -187.400635 -196.531426     -5.456566   \n",
       "1  vac_20     3x3x1  27  0.037037 -186.104404 -196.528449     -5.456566   \n",
       "2  vac_20     4x4x1  48  0.020833 -339.461205 -349.384544     -5.456566   \n",
       "\n",
       "      VBM  E_form_uncorr    E_corr  \n",
       "0 -1.6657       2.008525 -0.235181  \n",
       "1 -2.5881       2.379379 -0.604896  \n",
       "2 -2.5881       1.878673 -0.158326  "
      ]
     },
     "metadata": {},
     "output_type": "display_data"
    }
   ],
   "source": [
    "df = pandas.read_excel(\"Eform_Svac.xlsx\", sheet_name=None)\n",
    "for q in df.keys():\n",
    "    print (q)\n",
    "    display(df[q])"
   ]
  },
  {
   "cell_type": "markdown",
   "metadata": {},
   "source": [
    "### 6.      CORRECTED defect formation energy:"
   ]
  },
  {
   "cell_type": "markdown",
   "metadata": {},
   "source": [
    "Finally, we have all the pieces to evaluate the corrected defect formation energy!"
   ]
  },
  {
   "cell_type": "markdown",
   "metadata": {},
   "source": [
    "* This final python script simply adds the correction terms to the uncorrected defect formation energies to give us the final results:"
   ]
  },
  {
   "cell_type": "code",
   "execution_count": 20,
   "metadata": {},
   "outputs": [
    {
     "name": "stdout",
     "output_type": "stream",
     "text": [
      "/orange/hennig/annemarietan/precalculated_for_demo/MoS2/Svac/GGA\n"
     ]
    }
   ],
   "source": [
    "%cd /orange/hennig/annemarietan/precalculated_for_demo/MoS2/Svac/GGA\n",
    "\n",
    "calc_Eform_corr.calc(\"/orange/hennig/annemarietan/precalculated_for_demo/MoS2/Svac/GGA/\",\n",
    "                     \"Eform_Svac.xlsx\")\n",
    "# python /path/to/calc_Eform_corr.py /path/to/Svac/GGA Eform_Svac.xlsx"
   ]
  },
  {
   "cell_type": "code",
   "execution_count": 21,
   "metadata": {},
   "outputs": [
    {
     "name": "stdout",
     "output_type": "stream",
     "text": [
      "charge_0\n"
     ]
    },
    {
     "data": {
      "text/html": [
       "<div>\n",
       "<style scoped>\n",
       "    .dataframe tbody tr th:only-of-type {\n",
       "        vertical-align: middle;\n",
       "    }\n",
       "\n",
       "    .dataframe tbody tr th {\n",
       "        vertical-align: top;\n",
       "    }\n",
       "\n",
       "    .dataframe thead th {\n",
       "        text-align: right;\n",
       "    }\n",
       "</style>\n",
       "<table border=\"1\" class=\"dataframe\">\n",
       "  <thead>\n",
       "    <tr style=\"text-align: right;\">\n",
       "      <th></th>\n",
       "      <th>vacuum</th>\n",
       "      <th>supercell</th>\n",
       "      <th>N</th>\n",
       "      <th>1/N</th>\n",
       "      <th>E_def</th>\n",
       "      <th>E_bulk</th>\n",
       "      <th>mu_S_Mo-rich</th>\n",
       "      <th>VBM</th>\n",
       "      <th>E_form_corr</th>\n",
       "    </tr>\n",
       "  </thead>\n",
       "  <tbody>\n",
       "    <tr>\n",
       "      <th>0</th>\n",
       "      <td>vac_15</td>\n",
       "      <td>3x3x1</td>\n",
       "      <td>27</td>\n",
       "      <td>0.037037</td>\n",
       "      <td>-189.728601</td>\n",
       "      <td>-196.531426</td>\n",
       "      <td>-5.456566</td>\n",
       "      <td>-1.6657</td>\n",
       "      <td>1.346259</td>\n",
       "    </tr>\n",
       "    <tr>\n",
       "      <th>1</th>\n",
       "      <td>vac_20</td>\n",
       "      <td>3x3x1</td>\n",
       "      <td>27</td>\n",
       "      <td>0.037037</td>\n",
       "      <td>-189.725299</td>\n",
       "      <td>-196.528449</td>\n",
       "      <td>-5.456566</td>\n",
       "      <td>-2.5881</td>\n",
       "      <td>1.346584</td>\n",
       "    </tr>\n",
       "    <tr>\n",
       "      <th>2</th>\n",
       "      <td>vac_20</td>\n",
       "      <td>4x4x1</td>\n",
       "      <td>48</td>\n",
       "      <td>0.020833</td>\n",
       "      <td>-342.600831</td>\n",
       "      <td>-349.384544</td>\n",
       "      <td>-5.456566</td>\n",
       "      <td>-2.5881</td>\n",
       "      <td>1.327147</td>\n",
       "    </tr>\n",
       "  </tbody>\n",
       "</table>\n",
       "</div>"
      ],
      "text/plain": [
       "   vacuum supercell   N       1/N       E_def      E_bulk  mu_S_Mo-rich  \\\n",
       "0  vac_15     3x3x1  27  0.037037 -189.728601 -196.531426     -5.456566   \n",
       "1  vac_20     3x3x1  27  0.037037 -189.725299 -196.528449     -5.456566   \n",
       "2  vac_20     4x4x1  48  0.020833 -342.600831 -349.384544     -5.456566   \n",
       "\n",
       "      VBM  E_form_corr  \n",
       "0 -1.6657     1.346259  \n",
       "1 -2.5881     1.346584  \n",
       "2 -2.5881     1.327147  "
      ]
     },
     "metadata": {},
     "output_type": "display_data"
    },
    {
     "name": "stdout",
     "output_type": "stream",
     "text": [
      "charge_-1\n"
     ]
    },
    {
     "data": {
      "text/html": [
       "<div>\n",
       "<style scoped>\n",
       "    .dataframe tbody tr th:only-of-type {\n",
       "        vertical-align: middle;\n",
       "    }\n",
       "\n",
       "    .dataframe tbody tr th {\n",
       "        vertical-align: top;\n",
       "    }\n",
       "\n",
       "    .dataframe thead th {\n",
       "        text-align: right;\n",
       "    }\n",
       "</style>\n",
       "<table border=\"1\" class=\"dataframe\">\n",
       "  <thead>\n",
       "    <tr style=\"text-align: right;\">\n",
       "      <th></th>\n",
       "      <th>vacuum</th>\n",
       "      <th>supercell</th>\n",
       "      <th>N</th>\n",
       "      <th>1/N</th>\n",
       "      <th>E_def</th>\n",
       "      <th>E_bulk</th>\n",
       "      <th>mu_S_Mo-rich</th>\n",
       "      <th>VBM</th>\n",
       "      <th>E_form_uncorr</th>\n",
       "      <th>E_corr</th>\n",
       "      <th>E_form_corr</th>\n",
       "    </tr>\n",
       "  </thead>\n",
       "  <tbody>\n",
       "    <tr>\n",
       "      <th>0</th>\n",
       "      <td>vac_15</td>\n",
       "      <td>3x3x1</td>\n",
       "      <td>27</td>\n",
       "      <td>0.037037</td>\n",
       "      <td>-189.757534</td>\n",
       "      <td>-196.531426</td>\n",
       "      <td>-5.456566</td>\n",
       "      <td>-1.6657</td>\n",
       "      <td>2.983025</td>\n",
       "      <td>0.015273</td>\n",
       "      <td>2.998299</td>\n",
       "    </tr>\n",
       "    <tr>\n",
       "      <th>1</th>\n",
       "      <td>vac_20</td>\n",
       "      <td>3x3x1</td>\n",
       "      <td>27</td>\n",
       "      <td>0.037037</td>\n",
       "      <td>-190.233532</td>\n",
       "      <td>-196.528449</td>\n",
       "      <td>-5.456566</td>\n",
       "      <td>-2.5881</td>\n",
       "      <td>3.426451</td>\n",
       "      <td>-0.413040</td>\n",
       "      <td>3.013411</td>\n",
       "    </tr>\n",
       "    <tr>\n",
       "      <th>2</th>\n",
       "      <td>vac_20</td>\n",
       "      <td>4x4x1</td>\n",
       "      <td>48</td>\n",
       "      <td>0.020833</td>\n",
       "      <td>-343.515495</td>\n",
       "      <td>-349.384544</td>\n",
       "      <td>-5.456566</td>\n",
       "      <td>-2.5881</td>\n",
       "      <td>3.000583</td>\n",
       "      <td>-0.043033</td>\n",
       "      <td>2.957550</td>\n",
       "    </tr>\n",
       "  </tbody>\n",
       "</table>\n",
       "</div>"
      ],
      "text/plain": [
       "   vacuum supercell   N       1/N       E_def      E_bulk  mu_S_Mo-rich  \\\n",
       "0  vac_15     3x3x1  27  0.037037 -189.757534 -196.531426     -5.456566   \n",
       "1  vac_20     3x3x1  27  0.037037 -190.233532 -196.528449     -5.456566   \n",
       "2  vac_20     4x4x1  48  0.020833 -343.515495 -349.384544     -5.456566   \n",
       "\n",
       "      VBM  E_form_uncorr    E_corr  E_form_corr  \n",
       "0 -1.6657       2.983025  0.015273     2.998299  \n",
       "1 -2.5881       3.426451 -0.413040     3.013411  \n",
       "2 -2.5881       3.000583 -0.043033     2.957550  "
      ]
     },
     "metadata": {},
     "output_type": "display_data"
    },
    {
     "name": "stdout",
     "output_type": "stream",
     "text": [
      "charge_1\n"
     ]
    },
    {
     "data": {
      "text/html": [
       "<div>\n",
       "<style scoped>\n",
       "    .dataframe tbody tr th:only-of-type {\n",
       "        vertical-align: middle;\n",
       "    }\n",
       "\n",
       "    .dataframe tbody tr th {\n",
       "        vertical-align: top;\n",
       "    }\n",
       "\n",
       "    .dataframe thead th {\n",
       "        text-align: right;\n",
       "    }\n",
       "</style>\n",
       "<table border=\"1\" class=\"dataframe\">\n",
       "  <thead>\n",
       "    <tr style=\"text-align: right;\">\n",
       "      <th></th>\n",
       "      <th>vacuum</th>\n",
       "      <th>supercell</th>\n",
       "      <th>N</th>\n",
       "      <th>1/N</th>\n",
       "      <th>E_def</th>\n",
       "      <th>E_bulk</th>\n",
       "      <th>mu_S_Mo-rich</th>\n",
       "      <th>VBM</th>\n",
       "      <th>E_form_uncorr</th>\n",
       "      <th>E_corr</th>\n",
       "      <th>E_form_corr</th>\n",
       "    </tr>\n",
       "  </thead>\n",
       "  <tbody>\n",
       "    <tr>\n",
       "      <th>0</th>\n",
       "      <td>vac_15</td>\n",
       "      <td>3x3x1</td>\n",
       "      <td>27</td>\n",
       "      <td>0.037037</td>\n",
       "      <td>-187.400635</td>\n",
       "      <td>-196.531426</td>\n",
       "      <td>-5.456566</td>\n",
       "      <td>-1.6657</td>\n",
       "      <td>2.008525</td>\n",
       "      <td>-0.235181</td>\n",
       "      <td>1.773344</td>\n",
       "    </tr>\n",
       "    <tr>\n",
       "      <th>1</th>\n",
       "      <td>vac_20</td>\n",
       "      <td>3x3x1</td>\n",
       "      <td>27</td>\n",
       "      <td>0.037037</td>\n",
       "      <td>-186.104404</td>\n",
       "      <td>-196.528449</td>\n",
       "      <td>-5.456566</td>\n",
       "      <td>-2.5881</td>\n",
       "      <td>2.379379</td>\n",
       "      <td>-0.604896</td>\n",
       "      <td>1.774483</td>\n",
       "    </tr>\n",
       "    <tr>\n",
       "      <th>2</th>\n",
       "      <td>vac_20</td>\n",
       "      <td>4x4x1</td>\n",
       "      <td>48</td>\n",
       "      <td>0.020833</td>\n",
       "      <td>-339.461205</td>\n",
       "      <td>-349.384544</td>\n",
       "      <td>-5.456566</td>\n",
       "      <td>-2.5881</td>\n",
       "      <td>1.878673</td>\n",
       "      <td>-0.158326</td>\n",
       "      <td>1.720347</td>\n",
       "    </tr>\n",
       "  </tbody>\n",
       "</table>\n",
       "</div>"
      ],
      "text/plain": [
       "   vacuum supercell   N       1/N       E_def      E_bulk  mu_S_Mo-rich  \\\n",
       "0  vac_15     3x3x1  27  0.037037 -187.400635 -196.531426     -5.456566   \n",
       "1  vac_20     3x3x1  27  0.037037 -186.104404 -196.528449     -5.456566   \n",
       "2  vac_20     4x4x1  48  0.020833 -339.461205 -349.384544     -5.456566   \n",
       "\n",
       "      VBM  E_form_uncorr    E_corr  E_form_corr  \n",
       "0 -1.6657       2.008525 -0.235181     1.773344  \n",
       "1 -2.5881       2.379379 -0.604896     1.774483  \n",
       "2 -2.5881       1.878673 -0.158326     1.720347  "
      ]
     },
     "metadata": {},
     "output_type": "display_data"
    }
   ],
   "source": [
    "df = pandas.read_excel(\"Eform_Svac.xlsx\", sheet_name=None)\n",
    "for q in df.keys():\n",
    "    print (q)\n",
    "    display(df[q])"
   ]
  },
  {
   "cell_type": "markdown",
   "metadata": {},
   "source": [
    "You should see that the corrected formation energies for the charged defects are now also pretty well-converged. The vacuum dependence should essentially have been completely corrected, leaving only some in-plane supercell size dependence. In this case, the difference in formation energy evaluated with a 3x3 vs. 4x4 supercell should be around 50 meV, which is good enough for us at this point."
   ]
  },
  {
   "cell_type": "code",
   "execution_count": null,
   "metadata": {},
   "outputs": [],
   "source": []
  }
 ],
 "metadata": {
  "kernelspec": {
   "display_name": "Python 3",
   "language": "python",
   "name": "python3"
  },
  "language_info": {
   "codemirror_mode": {
    "name": "ipython",
    "version": 3
   },
   "file_extension": ".py",
   "mimetype": "text/x-python",
   "name": "python",
   "nbconvert_exporter": "python",
   "pygments_lexer": "ipython3",
   "version": "3.7.7"
  }
 },
 "nbformat": 4,
 "nbformat_minor": 4
}
