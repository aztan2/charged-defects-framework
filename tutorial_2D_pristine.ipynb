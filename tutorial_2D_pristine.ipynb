{
 "cells": [
  {
   "cell_type": "markdown",
   "metadata": {},
   "source": [
    "# Calculating structure and properties of pristine 2D materials\n",
    "a tutorial by Anne Marie Tan"
   ]
  },
  {
   "cell_type": "markdown",
   "metadata": {},
   "source": [
    "Some things to note before we get started:\n",
    "* Download the python scripts from the [github repository](https://github.com/aztan2/charged-defects-framework) and place them in the same directory as this notebook on hipergator.\n",
    "* You will need to launch this notebook from a virtual environment on hipergator in which you have installed python packages like numpy, matplotlib, pymatgen, pandas, nglview (if you want to use the built-in crystal viewer), and of course jupyterlab.\n",
    "* Follow the instructions in the [document on the Hennig group google drive](https://drive.google.com/file/d/15qzXZkK6Wrmor-9JOuGI_-nMmcHZsAoe/view?usp=sharing) to start a Jupyter notebook within a SLURM job on hipergator and connect to it from the web browser running on your local computer.\n",
    "* For the purpose of this tutorial, I will try to keep everything self-contained by executing all commands within python, including navigating directories, executing python scripts, etc. \\\n",
    "However, when you actually apply this to a new system, you will probably find it easier to do some of these directly from command line. \\\n",
    "Hence, I will also include as comments the corresponding bash commands to perform certain steps."
   ]
  },
  {
   "cell_type": "markdown",
   "metadata": {},
   "source": [
    "Before getting into the defects, let’s start by computing some properties of the pristine monolayer, namely lattice constants, band gaps, and dielectric tensor. "
   ]
  },
  {
   "cell_type": "code",
   "execution_count": 30,
   "metadata": {},
   "outputs": [],
   "source": [
    "import os\n",
    "import sys\n",
    "import importlib\n",
    "import pymatgen"
   ]
  },
  {
   "cell_type": "code",
   "execution_count": 31,
   "metadata": {},
   "outputs": [],
   "source": [
    "import myutils\n",
    "import gen_unitcell_2d\n",
    "import gen_incar\n",
    "import gen_kpts_grid\n",
    "import gen_kpts_line\n",
    "import gen_submit\n",
    "\n",
    "#importlib.reload(myutils)\n",
    "#importlib.reload(gen_unitcell_2d)\n",
    "#importlib.reload(gen_incar)"
   ]
  },
  {
   "cell_type": "markdown",
   "metadata": {},
   "source": [
    "### 1.      Check convergence of energy, lattice constants w.r.t. vacuum spacing:"
   ]
  },
  {
   "cell_type": "markdown",
   "metadata": {},
   "source": [
    "* Obtain structure POSCAR from https://materialsproject.org. \\\n",
    "For this exercise, we'll use the example of MoS$_2$. The layered bulk structure can be found at https://materialsproject.org/materials/mp-2815/. \\\n",
    "Download the POSCAR file, rename it as POSCAR_bulk and place it in an appropriately-named directory on hipergator, such as `/ufrc/hennig/yourusername/MoS2/unitcell`. \\\n",
    "Enter this directory, replacing the path below with the path to your directory."
   ]
  },
  {
   "cell_type": "code",
   "execution_count": 32,
   "metadata": {},
   "outputs": [
    {
     "name": "stdout",
     "output_type": "stream",
     "text": [
      "/ufrc/hennig/annemarietan/test/MoS2/unitcell\n"
     ]
    }
   ],
   "source": [
    "## Jupyter notebook has some built-in \"magic commands\" to execute certain bash commands such as cd or ls\n",
    "%cd /ufrc/hennig/annemarietan/test/MoS2/unitcell"
   ]
  },
  {
   "cell_type": "code",
   "execution_count": 33,
   "metadata": {},
   "outputs": [
    {
     "name": "stdout",
     "output_type": "stream",
     "text": [
      "POSCAR_bulk    POSCAR_vac_15  \u001b[0m\u001b[01;34mvac_10\u001b[0m/  \u001b[01;34mvac_14\u001b[0m/  \u001b[01;34mvac_16\u001b[0m/  \u001b[01;34mvac_20\u001b[0m/\r\n",
      "POSCAR_vac_10  POSCAR_vac_20  \u001b[01;34mvac_12\u001b[0m/  \u001b[01;34mvac_15\u001b[0m/  \u001b[01;34mvac_18\u001b[0m/\r\n"
     ]
    }
   ],
   "source": [
    "%ls"
   ]
  },
  {
   "cell_type": "markdown",
   "metadata": {},
   "source": [
    "I embedded a simple crystal structure viewer in this notebook, but you can also open this POSCAR in your favourite software and have a look at it. It should be a 6-atom unitcell of the layered bulk MoS$_2$."
   ]
  },
  {
   "cell_type": "code",
   "execution_count": 63,
   "metadata": {},
   "outputs": [
    {
     "data": {
      "application/vnd.jupyter.widget-view+json": {
       "model_id": "3782d7fac3e94389bb7d34a532d6b86c",
       "version_major": 2,
       "version_minor": 0
      },
      "text/plain": [
       "HBox(children=(NGLWidget(), VBox(children=(Dropdown(description='Show', options=('All', 'S', 'Mo'), value='All…"
      ]
     },
     "metadata": {},
     "output_type": "display_data"
    }
   ],
   "source": [
    "from ase.visualize import view\n",
    "from pymatgen.io.ase import AseAtomsAdaptor\n",
    "from pymatgen.io.vasp import Poscar\n",
    "\n",
    "structure = Poscar.from_file('POSCAR_bulk').structure\n",
    "atoms = AseAtomsAdaptor.get_atoms(structure)\n",
    "ngl_handler = view(atoms, viewer='ngl')\n",
    "ngl_handler.view.add_representation('ball+stick', selection='all')\n",
    "ngl_handler.view.center()\n",
    "ngl_handler"
   ]
  },
  {
   "cell_type": "markdown",
   "metadata": {},
   "source": [
    "Create POSCARs with different amounts of vacuum spacing, ranging from ~ 10 – 20 Å. "
   ]
  },
  {
   "cell_type": "code",
   "execution_count": 64,
   "metadata": {},
   "outputs": [],
   "source": [
    "for vacs in [10,12,14,15,16,18,20]:\n",
    "    gen_unitcell_2d.main([\"POSCAR_bulk\", \"%s\"%vacs, \"--from_bulk\", \"--slabmin\", \"0.0\", \"--slabmax\", \"0.5\", \"--zaxis\", \"c\"])\n",
    "## python gen_unitcell_2d.py POSCAR_bulk <vacs> --from_bulk --slabmin 0.0 --slabmax 0.5 --zaxis c"
   ]
  },
  {
   "cell_type": "code",
   "execution_count": 65,
   "metadata": {},
   "outputs": [
    {
     "name": "stdout",
     "output_type": "stream",
     "text": [
      "POSCAR_bulk    POSCAR_vac_15  \u001b[0m\u001b[01;34mvac_10\u001b[0m/  \u001b[01;34mvac_14\u001b[0m/  \u001b[01;34mvac_16\u001b[0m/  \u001b[01;34mvac_20\u001b[0m/\r\n",
      "POSCAR_vac_10  POSCAR_vac_20  \u001b[01;34mvac_12\u001b[0m/  \u001b[01;34mvac_15\u001b[0m/  \u001b[01;34mvac_18\u001b[0m/\r\n"
     ]
    }
   ],
   "source": [
    "%ls"
   ]
  },
  {
   "cell_type": "markdown",
   "metadata": {},
   "source": [
    "As you should see above, this script has created new sub-directories called `vac_10`, `vac_12`, etc. \\\n",
    "Let's enter one of them to see what's inside."
   ]
  },
  {
   "cell_type": "code",
   "execution_count": 66,
   "metadata": {},
   "outputs": [
    {
     "name": "stdout",
     "output_type": "stream",
     "text": [
      "/ufrc/hennig/annemarietan/test/MoS2/unitcell/vac_12\n",
      "INCAR  KPOINTS  POSCAR  POTCAR  submitVASP.sh\r\n"
     ]
    }
   ],
   "source": [
    "%cd vac_12\n",
    "%ls"
   ]
  },
  {
   "cell_type": "code",
   "execution_count": 67,
   "metadata": {},
   "outputs": [
    {
     "name": "stdout",
     "output_type": "stream",
     "text": [
      "Mo1 S2\r\n",
      "1.0\r\n",
      "3.192238 0.000000 0.000000\r\n",
      "-1.596119 2.764559 0.000000\r\n",
      "0.000000 0.000000 15.128327\r\n",
      "Mo S\r\n",
      "1 2\r\n",
      "direct\r\n",
      "0.666667 0.333333 0.500000 Mo\r\n",
      "0.333333 0.666667 0.603393 S\r\n",
      "0.333333 0.666667 0.396607 S\r\n"
     ]
    }
   ],
   "source": [
    "%cat POSCAR"
   ]
  },
  {
   "cell_type": "markdown",
   "metadata": {},
   "source": [
    "Using the simple crystal structure viewer again, you should see that you now have a 3-atom unitcell of the MoS$_2$ monolayer surrounded by vaccum."
   ]
  },
  {
   "cell_type": "code",
   "execution_count": 72,
   "metadata": {},
   "outputs": [
    {
     "data": {
      "application/vnd.jupyter.widget-view+json": {
       "model_id": "a485823638ce4bc4a4b17ab0a4c82e12",
       "version_major": 2,
       "version_minor": 0
      },
      "text/plain": [
       "HBox(children=(NGLWidget(), VBox(children=(Dropdown(description='Show', options=('All', 'S', 'Mo'), value='All…"
      ]
     },
     "metadata": {},
     "output_type": "display_data"
    }
   ],
   "source": [
    "#from ase.visualize import view\n",
    "#from pymatgen.io.ase import AseAtomsAdaptor\n",
    "#from pymatgen.io.vasp import Poscar\n",
    "\n",
    "structure = Poscar.from_file('POSCAR').structure\n",
    "atoms = AseAtomsAdaptor.get_atoms(structure)\n",
    "ngl_handler = view(atoms, viewer='ngl')\n",
    "ngl_handler.view.add_representation('ball+stick', selection='all')\n",
    "ngl_handler.view.center()\n",
    "ngl_handler"
   ]
  },
  {
   "cell_type": "markdown",
   "metadata": {},
   "source": [
    "* Prepare the POTCAR by concatenating the appropriate element POTCARs. \\\n",
    "We usually use the pseudopotentials suggested by materialsproject. \n",
    "So, in this case, we will use the `Mo_pv` POTCAR for Mo and `S` POTCAR for S. \\\n",
    "Note that pymatgen orders the elements in the POSCAR by increasing electronegativity, hence the element POTCARs must be concatenated in the same order."
   ]
  },
  {
   "cell_type": "code",
   "execution_count": 73,
   "metadata": {},
   "outputs": [
    {
     "name": "stdout",
     "output_type": "stream",
     "text": [
      "INCAR  KPOINTS  POSCAR  POTCAR  submitVASP.sh\r\n"
     ]
    }
   ],
   "source": [
    "%cat /home/annemarietan/POTCAR/POT_GGA_PAW_PBE/Mo_pv/POTCAR /home/annemarietan/POTCAR/POT_GGA_PAW_PBE/S/POTCAR > POTCAR\n",
    "%ls"
   ]
  },
  {
   "cell_type": "markdown",
   "metadata": {},
   "source": [
    "* Prepare INCAR for a standard structural relaxation run, but with ISIF = 3 to relax cell parameters as well to get the equilibrium lattice constnt."
   ]
  },
  {
   "cell_type": "code",
   "execution_count": 74,
   "metadata": {},
   "outputs": [],
   "source": [
    "gen_incar.main([\"--functional\", \"PBE\", \"--runtype\", \"relax\", \"--relaxcell\"])\n",
    "## python gen_incar.py --funtional PBE --runtype relax --relaxcell"
   ]
  },
  {
   "cell_type": "code",
   "execution_count": 75,
   "metadata": {},
   "outputs": [
    {
     "name": "stdout",
     "output_type": "stream",
     "text": [
      "PREC = Accurate\r\n",
      "ALGO = Fast\r\n",
      "LREAL = Auto\r\n",
      "ISYM = 0\r\n",
      "NELECT = 24\r\n",
      "ENCUT = 520\r\n",
      "NELM = 120\r\n",
      "EDIFF = 1e-06\r\n",
      "ISIF = 3\r\n",
      "IBRION = 2\r\n",
      "NSW = 100\r\n",
      "ISMEAR = 1\r\n",
      "SIGMA = 0.1\r\n",
      "ISPIN = 2\r\n",
      "MAGMOM = 1*5.0 2*0.6\r\n",
      "LPLANE = True\r\n",
      "LWAVE = False\r\n",
      "LCHARG = True\r\n",
      "LMAXMIX = 4\r\n",
      "LORBIT = 11\r\n",
      "LVTOT = True\r\n",
      "LVHAR = True\r\n"
     ]
    }
   ],
   "source": [
    "%cat INCAR"
   ]
  },
  {
   "cell_type": "markdown",
   "metadata": {},
   "source": [
    "* Prepare KPOINTS. \n",
    "For 2D materials, we decided on kpts per reciprocal atom (p.r.a.) > 400. \n",
    "Typically, I try to choose a value of kpts p.r.a. that gives me an easily divisible mesh size, e.g. 12x12x1"
   ]
  },
  {
   "cell_type": "code",
   "execution_count": 76,
   "metadata": {},
   "outputs": [],
   "source": [
    "gen_kpts_grid.main([\"--kppa\", \"440\"])\n",
    "## python gen_kpts_grid.py --kppa 440"
   ]
  },
  {
   "cell_type": "code",
   "execution_count": 77,
   "metadata": {},
   "outputs": [
    {
     "name": "stdout",
     "output_type": "stream",
     "text": [
      "automatically generated KPOINTS with 2d grid density = 440 per reciprocal atom\r\n",
      "0\r\n",
      "Gamma\r\n",
      "12 12 1\r\n"
     ]
    }
   ],
   "source": [
    "%cat KPOINTS"
   ]
  },
  {
   "cell_type": "markdown",
   "metadata": {},
   "source": [
    "* Prepare the submission script. For now, you may leave the queue/nodes/memory/time at their default values, but remember to change the email option to *YOUR* email address! In fact, you may want to just change the default in the `gen_submit.py` script itself. "
   ]
  },
  {
   "cell_type": "code",
   "execution_count": 78,
   "metadata": {},
   "outputs": [
    {
     "name": "stdout",
     "output_type": "stream",
     "text": [
      "MoS2_unitcell\n"
     ]
    }
   ],
   "source": [
    "gen_submit.main([\"--jobname\", \"MoS2_unitcell\", \"--email\", \"youremail@ufl.edu\", \"--time\", \"6:00:00\"])\n",
    "## python gen_submit.py --jobname MoS2_unitcell --email youremail@ufl.edu --time 6:00:00"
   ]
  },
  {
   "cell_type": "code",
   "execution_count": 79,
   "metadata": {},
   "outputs": [
    {
     "name": "stdout",
     "output_type": "stream",
     "text": [
      "#!/bin/bash\r\n",
      "#SBATCH --job-name=MoS2_unitcell\r\n",
      "#SBATCH -o out_%j\r\n",
      "#SBATCH -e err_%j\r\n",
      "#SBATCH --mail-type=END,FAIL  # Mail events (NONE, BEGIN, END, FAIL, ALL)\r\n",
      "#SBATCH --mail-user=youremail@ufl.edu\r\n",
      "#SBATCH --partition=hpg2-compute\r\n",
      "#SBATCH --qos=hennig\r\n",
      "#SBATCH --ntasks=32\r\n",
      "#SBATCH --ntasks-per-socket=16\r\n",
      "#SBATCH --ntasks-per-node=32\r\n",
      "#SBATCH --nodes=1\r\n",
      "#SBATCH --cpus-per-task=1\r\n",
      "#SBATCH --mem-per-cpu=2048mb\r\n",
      "#SBATCH -t 6:00:00\r\n",
      "#SBATCH --distribution=cyclic:cyclic\r\n",
      "\r\n",
      "cd $SLURM_SUBMIT_DIR\r\n",
      "\r\n",
      "module purge\r\n",
      "module load intel/2019.1.144\r\n",
      "module load openmpi/4.0.1\r\n",
      "srun --mpi=pmix_v3 /home/annemarietan/vasp5.4.4_intel2019/vasp_noz > job.log\r\n",
      "\r\n",
      "echo 'Done.'"
     ]
    }
   ],
   "source": [
    "%cat submitVASP.sh"
   ]
  },
  {
   "cell_type": "code",
   "execution_count": 80,
   "metadata": {},
   "outputs": [
    {
     "name": "stdout",
     "output_type": "stream",
     "text": [
      "INCAR  KPOINTS  POSCAR  POTCAR  submitVASP.sh\r\n"
     ]
    }
   ],
   "source": [
    "%ls"
   ]
  },
  {
   "cell_type": "markdown",
   "metadata": {},
   "source": [
    "* You should have a POSCAR, POTCAR, INCAR, KPOINTS, and submitVASP.sh file in this directory now. \\\n",
    "Go ahead and submit your job by typing `sbatch submitVASP.sh` on hipergator!"
   ]
  },
  {
   "cell_type": "markdown",
   "metadata": {},
   "source": [
    "* Now, let's go back and do the same in all the other `vac_<>` subdirectories. You can either re-run all the commands/scripts to generate the POTCAR, INCAR, KPOINTS and submitVASP.sh again, or simply copy them from this directory into all the others. (All of these calculations will use the same VASP input files except for the POSCARs which have different vacuum spacings.)"
   ]
  },
  {
   "cell_type": "code",
   "execution_count": 81,
   "metadata": {},
   "outputs": [
    {
     "name": "stdout",
     "output_type": "stream",
     "text": [
      "/ufrc/hennig/annemarietan/test/MoS2/unitcell\n"
     ]
    }
   ],
   "source": [
    "%cd /ufrc/hennig/annemarietan/test/MoS2/unitcell\n",
    "%cp vac_12/{INCAR,KPOINTS,POTCAR,submitVASP.sh} vac_10/\n",
    "%cp vac_10/{INCAR,KPOINTS,POTCAR,submitVASP.sh} vac_14/\n",
    "%cp vac_10/{INCAR,KPOINTS,POTCAR,submitVASP.sh} vac_16/\n",
    "%cp vac_10/{INCAR,KPOINTS,POTCAR,submitVASP.sh} vac_18/\n",
    "%cp vac_10/{INCAR,KPOINTS,POTCAR,submitVASP.sh} vac_20/"
   ]
  },
  {
   "cell_type": "markdown",
   "metadata": {},
   "source": [
    "**EXERCISE**: When your jobs are completed, plot out:\n",
    "* final energy (where to find the final energy?) vs. vacuum spacing\n",
    "* in-plane lattice constant vs. vacuum spacing\n",
    "\n",
    "Do you observe convergence of these quantities with increasing vacuum spacing? How do your values compare with those reported in literature?"
   ]
  },
  {
   "cell_type": "raw",
   "metadata": {},
   "source": []
  },
  {
   "cell_type": "markdown",
   "metadata": {},
   "source": [
    "### 2.      Next, we would like to calculate the band structure of the pristine monolayer:"
   ]
  },
  {
   "cell_type": "markdown",
   "metadata": {},
   "source": [
    "* Enter one of the directories from before and create a subdirectory in it called `bands`."
   ]
  },
  {
   "cell_type": "code",
   "execution_count": 82,
   "metadata": {},
   "outputs": [
    {
     "name": "stdout",
     "output_type": "stream",
     "text": [
      "/ufrc/hennig/annemarietan/test/MoS2/unitcell/vac_10\n",
      "mkdir: cannot create directory ‘bands’: File exists\n",
      "/ufrc/hennig/annemarietan/test/MoS2/unitcell/vac_10/bands\n"
     ]
    }
   ],
   "source": [
    "%cd /ufrc/hennig/annemarietan/test/MoS2/unitcell/vac_10\n",
    "%mkdir bands\n",
    "%cd bands"
   ]
  },
  {
   "cell_type": "markdown",
   "metadata": {},
   "source": [
    "* Copy the CONTCAR from the converged structural relaxation run and rename it POSCAR. \n",
    "Also copy the CHGCAR, POTCAR and submission script into the new directory."
   ]
  },
  {
   "cell_type": "code",
   "execution_count": 83,
   "metadata": {},
   "outputs": [
    {
     "name": "stdout",
     "output_type": "stream",
     "text": [
      "CHGCAR  INCAR  KPOINTS  POSCAR  POTCAR  submitVASP.sh\r\n"
     ]
    }
   ],
   "source": [
    "%cp ../CONTCAR POSCAR\n",
    "%cp ../CHGCAR .\n",
    "%cp ../{POTCAR,submitVASP.sh} .\n",
    "%ls"
   ]
  },
  {
   "cell_type": "markdown",
   "metadata": {},
   "source": [
    "* We need to generate a new INCAR file with a few different tags for the band structure calculation: \\\n",
    "`IBRION = -1` and `NSW = 0` specify that only a single ionic step will be performed. \\\n",
    "If a CHGCAR or WAVECAR is provided, `ICHARG = 11` or `ICHARG = 10` specify that a non-selfconsistent calculation will be performed, meaning that the charge density will be kept constant throughout the calculation."
   ]
  },
  {
   "cell_type": "code",
   "execution_count": 84,
   "metadata": {},
   "outputs": [],
   "source": [
    "gen_incar.main([\"--functional\", \"PBE\", \"--runtype\", \"bands\"])\n",
    "## python gen_incar.py --funtional PBE --runtype bands"
   ]
  },
  {
   "cell_type": "code",
   "execution_count": 85,
   "metadata": {},
   "outputs": [
    {
     "name": "stdout",
     "output_type": "stream",
     "text": [
      "PREC = Accurate\r\n",
      "ALGO = Fast\r\n",
      "LREAL = Auto\r\n",
      "ICHARG = 11\r\n",
      "ISYM = 0\r\n",
      "NELECT = 24\r\n",
      "ENCUT = 520\r\n",
      "NELM = 120\r\n",
      "EDIFF = 1e-06\r\n",
      "ISIF = 2\r\n",
      "IBRION = -1\r\n",
      "NSW = 0\r\n",
      "ISMEAR = 1\r\n",
      "SIGMA = 0.1\r\n",
      "ISPIN = 2\r\n",
      "MAGMOM = 1*5.0 2*0.6\r\n",
      "LPLANE = True\r\n",
      "NPAR = 4\r\n",
      "KPAR = 2\r\n",
      "LWAVE = False\r\n",
      "LCHARG = False\r\n",
      "LMAXMIX = 4\r\n",
      "LORBIT = 11\r\n",
      "LVTOT = True\r\n",
      "LVHAR = True\r\n"
     ]
    }
   ],
   "source": [
    "%cat INCAR"
   ]
  },
  {
   "cell_type": "markdown",
   "metadata": {},
   "source": [
    "* For the band structure calculation, we need to specify a different type of KPOINTS file. Instead of specifying a uniform k-point grid, we specify a high symmetry path along which we want to evaluate the band structure. The choice of high symmetry path depends on the symmetry inherent to that crystal structure, and is determined using a procedure developed by [Setyawan and Curtarolo](https://arxiv.org/abs/1004.2974). \\\n",
    "For a 2D hexagonal structure such as MoS$_2$, the relevant high symmetry path passes through the points Γ-M-K-Γ. You can visualize the kpath using [this online tool](http://materials.duke.edu/awrapper.html). You should get something that looks like this:\n",
    "\n",
    "<div>\n",
    "<img src=\"tutorial_images/kpath.png\" width=\"300\"/>\n",
    "</div>"
   ]
  },
  {
   "cell_type": "code",
   "execution_count": 88,
   "metadata": {},
   "outputs": [],
   "source": [
    "gen_kpts_line.main([\"--ndiv\", \"20\", \"--dim\", \"2\"])\n",
    "## python gen_kpts_line.py --ndiv 20 --dim 2"
   ]
  },
  {
   "cell_type": "code",
   "execution_count": 89,
   "metadata": {},
   "outputs": [
    {
     "name": "stdout",
     "output_type": "stream",
     "text": [
      "Line_mode KPOINTS file\r\n",
      "20\r\n",
      "Line_mode\r\n",
      "Reciprocal\r\n",
      "0.0 0.0 0.0 ! \\Gamma\r\n",
      "0.5 0.0 0.0 ! M\r\n",
      "\r\n",
      "0.5 0.0 0.0 ! M\r\n",
      "0.3333333333333333 0.3333333333333333 0.0 ! K\r\n",
      "\r\n",
      "0.3333333333333333 0.3333333333333333 0.0 ! K\r\n",
      "0.0 0.0 0.0 ! \\Gamma\r\n",
      "\r\n"
     ]
    }
   ],
   "source": [
    "%mv KPOINTS_bands KPOINTS\n",
    "%cat KPOINTS"
   ]
  },
  {
   "cell_type": "markdown",
   "metadata": {},
   "source": [
    "* You should have (at least) a POSCAR, POTCAR, INCAR, KPOINTS, and submitVASP.sh file in this directory now.\n",
    "Go ahead and submit your job!"
   ]
  },
  {
   "cell_type": "markdown",
   "metadata": {},
   "source": [
    "**EXERCISE**: When your job is completed, plot the band structure diagram using the following script:"
   ]
  },
  {
   "cell_type": "code",
   "execution_count": 92,
   "metadata": {},
   "outputs": [
    {
     "name": "stdout",
     "output_type": "stream",
     "text": [
      "/ufrc/hennig/annemarietan/test/MoS2/unitcell/vac_10/bands_ref\n"
     ]
    },
    {
     "name": "stderr",
     "output_type": "stream",
     "text": [
      "/home/annemarietan/miniconda3/envs/jupyter/lib/python3.7/site-packages/pymatgen/io/vasp/inputs.py:1859: BadPotcarWarning: POTCAR with symbol Mo_pv has metadata that does not match                          any VASP POTCAR known to pymatgen. The data in this                          POTCAR is known to match the following functionals:                          ['PBE_54', 'PBE_52', 'unvie_PBE_52']\n",
      "  BadPotcarWarning)\n",
      "/home/annemarietan/miniconda3/envs/jupyter/lib/python3.7/site-packages/pymatgen/io/vasp/inputs.py:1859: BadPotcarWarning: POTCAR with symbol S has metadata that does not match                          any VASP POTCAR known to pymatgen. The data in this                          POTCAR is known to match the following functionals:                          ['PBE_54', 'PBE_52', 'unvie_PBE_52']\n",
      "  BadPotcarWarning)\n"
     ]
    },
    {
     "name": "stdout",
     "output_type": "stream",
     "text": [
      "Band gap:  {'direct': False, 'energy': 1.6741000000000001, 'transition': '\\\\Gamma-K'}\n"
     ]
    },
    {
     "data": {
      "image/png": "[encoded data removed]",
      "text/plain": [
       "<Figure size 864x576 with 1 Axes>"
      ]
     },
     "metadata": {},
     "output_type": "display_data"
    }
   ],
   "source": [
    "#%cd /ufrc/hennig/annemarietan/test/MoS2/unitcell/vac_10/bands_ref\n",
    "\n",
    "import matplotlib\n",
    "from pymatgen.io.vasp.outputs import Vasprun\n",
    "from pymatgen.electronic_structure.plotter import BSPlotter\n",
    "run = Vasprun(\"vasprun.xml\",parse_projected_eigen=False)\n",
    "bs = run.get_band_structure(\"KPOINTS\",line_mode=True)\n",
    "print(\"Band gap: \",bs.get_band_gap())\n",
    "bsplot = BSPlotter(bs)\n",
    "bs.is_spin_polarized = False\n",
    "bsplot.get_plot(zero_to_efermi=True,vbm_cbm_marker=True).savefig(\"bandstructure.png\")"
   ]
  },
  {
   "cell_type": "markdown",
   "metadata": {},
   "source": [
    "* Repeat this calculation for other vacuum spacings as well. \\\n",
    "Do you observe a strong dependence of the band structure and band gap with vacuum spacing? How does your band structure compare with that reported in literature?"
   ]
  },
  {
   "cell_type": "markdown",
   "metadata": {},
   "source": [
    "### 3.      Now for the dielectric tensor:"
   ]
  },
  {
   "cell_type": "markdown",
   "metadata": {},
   "source": [
    "* Enter one of the directories from before and create a subdirectory in it called `dielectric`."
   ]
  },
  {
   "cell_type": "code",
   "execution_count": 94,
   "metadata": {},
   "outputs": [
    {
     "name": "stdout",
     "output_type": "stream",
     "text": [
      "/ufrc/hennig/annemarietan/test/MoS2/unitcell/vac_10\n",
      "/ufrc/hennig/annemarietan/test/MoS2/unitcell/vac_10/dielectric\n"
     ]
    }
   ],
   "source": [
    "%cd /ufrc/hennig/annemarietan/test/MoS2/unitcell/vac_10\n",
    "%mkdir dielectric\n",
    "%cd dielectric"
   ]
  },
  {
   "cell_type": "markdown",
   "metadata": {},
   "source": [
    "* Copy the CONTCAR from the converged structural relaxation run and rename it POSCAR. \\\n",
    "Also copy the KPOINTS, POTCAR and submission script into the new directory."
   ]
  },
  {
   "cell_type": "code",
   "execution_count": 95,
   "metadata": {},
   "outputs": [
    {
     "name": "stdout",
     "output_type": "stream",
     "text": [
      "KPOINTS  POSCAR  POTCAR  submitVASP.sh\r\n"
     ]
    }
   ],
   "source": [
    "%cp ../CONTCAR POSCAR\n",
    "%cp ../{KPOINTS,POTCAR,submitVASP.sh} .\n",
    "%ls"
   ]
  },
  {
   "cell_type": "markdown",
   "metadata": {},
   "source": [
    "* We need to generate a new INCAR file with a few different tags for the dielectric tensor calculation: \\\n",
    "`LEPSILON = True` and `LPEAD = True` determine the static (ion-clamped) dielectric matrix using density functional perturbation theory, while  `IBRION = 6` determines the ionic contribution to the dielectric tensor by finite differences."
   ]
  },
  {
   "cell_type": "code",
   "execution_count": 96,
   "metadata": {},
   "outputs": [],
   "source": [
    "gen_incar.main([\"--functional\", \"PBE\", \"--runtype\", \"dielectric\"])\n",
    "## python gen_incar.py --funtional PBE --runtype dielectric"
   ]
  },
  {
   "cell_type": "code",
   "execution_count": 97,
   "metadata": {},
   "outputs": [
    {
     "name": "stdout",
     "output_type": "stream",
     "text": [
      "PREC = Accurate\r\n",
      "ALGO = Fast\r\n",
      "LREAL = Auto\r\n",
      "NELECT = 24\r\n",
      "ENCUT = 520\r\n",
      "NELM = 120\r\n",
      "EDIFF = 1e-06\r\n",
      "ISIF = 2\r\n",
      "IBRION = 6\r\n",
      "NSW = 100\r\n",
      "ISMEAR = 1\r\n",
      "SIGMA = 0.1\r\n",
      "ISPIN = 2\r\n",
      "MAGMOM = 1*5.0 2*0.6\r\n",
      "LPLANE = True\r\n",
      "LWAVE = False\r\n",
      "LCHARG = False\r\n",
      "LMAXMIX = 4\r\n",
      "LORBIT = 11\r\n",
      "LEPSILON = True\r\n",
      "LPEAD = True\r\n"
     ]
    }
   ],
   "source": [
    "%cat INCAR"
   ]
  },
  {
   "cell_type": "markdown",
   "metadata": {},
   "source": [
    "* You should have a POSCAR, POTCAR, INCAR, KPOINTS, and submitVASP.sh file in this directory now. Go ahead and submit your job!\n",
    "* Repeat this calculation for other vacuum spacings as well."
   ]
  },
  {
   "cell_type": "markdown",
   "metadata": {},
   "source": [
    "**EXERCISE**: The electronic contribution to the dielectric tensor is reported in the OUTCAR under the heading `MACROSCOPIC STATIC DIELECTRIC TENSOR (including local field effects in DFT)` and the ionic contribution under the heading `MACROSCOPIC STATIC DIELECTRIC TENSOR IONIC CONTRIBUTION`. Sum these two tensors up to obtain the total dielectric response of the system. \\\n",
    "What do you observe? Does the dielectric tensor converge with vacuum spacing?"
   ]
  },
  {
   "cell_type": "markdown",
   "metadata": {},
   "source": [
    "* You should find that, unlike the previous quantities, the dielectric tensor does **not** converge with vacuum spacing.\n",
    "This is actually to be expected in this case because VASP calculates the total dielectric response of the entire system that includes the slab of interest + vacuum spacing.\n",
    "As a result, the dielectric tensor values that we obtain from the OUTCAR are not the dielectric tensor of just our slab, but some combination of the dielectric tensor of the slab and the vacuum ($\\varepsilon$ = 1)."
   ]
  },
  {
   "cell_type": "markdown",
   "metadata": {},
   "source": [
    "* Therefore, we will estimate the dielectric tensor of our slab using the following model (see [Tan *et al*.](https://doi.org/10.1103/PhysRevMaterials.4.064004), [Freysoldt *et al*.](https://doi.org/10.1103/PhysRevB.77.235428)), in which we consider the in-plane components of the slab dielectric tensor to be in parallel with that of the vacuum, while the out-of-plane component of the slab dielectric tensor is in series with that of the vacuum:\n",
    "\n",
    "<div>\n",
    "<img src=\"tutorial_images/dielectric.png\" width=\"300\"/>\n",
    "</div>\n",
    "\n",
    "<div>\n",
    "<img src=\"tutorial_images/eqn_dielectric_a.png\" width=\"400\"/>\n",
    "</div>\n",
    "\n",
    "where $d^{\\textrm{vac}}$ = height of the vacuum spacing, $d^{\\textrm{slab}}$ = height of the monolayer slab, $d^{\\textrm{sc}}$ = height of the supercell = $d^{\\textrm{vac}}$ + $d^{\\textrm{slab}}$, $\\varepsilon^{\\textrm{sc}}_{\\parallel}$ and $\\varepsilon^{\\textrm{sc}}_{\\perp}$ are the (averaged) in-plane and out-of-plane components of the supercell dielectric tensor which you read from the VASP OUTCAR, and $\\varepsilon^{\\textrm{slab}}_{\\parallel}$ and $\\varepsilon^{\\textrm{slab}}_{\\perp}$ are the in-plane and out-of-plane components of the slab dielectric tensor."
   ]
  },
  {
   "cell_type": "markdown",
   "metadata": {},
   "source": [
    "* To simplify, let us assume an isotropic slab ($\\varepsilon^{\\textrm{slab}}_{\\parallel} = \\varepsilon^{\\textrm{slab}}_{\\perp}$). Then, we can rearrange the equations above to solve for the unknown quantities $\\varepsilon^{\\textrm{slab}}$ and $d^{\\textrm{slab}}$:\n",
    "\n",
    "<div>\n",
    "<img src=\"tutorial_images/eqn_dielectric_b.png\" width=\"300\"/>\n",
    "</div>\n",
    "\n",
    "(Note: in the systems I've encountered so far, the off-diagonal components of the dielectric tensor were effectively zero; if this is not the case in your system, check with Richard!)"
   ]
  },
  {
   "cell_type": "markdown",
   "metadata": {},
   "source": [
    "## SUMMARY"
   ]
  },
  {
   "cell_type": "markdown",
   "metadata": {},
   "source": [
    "In this tutorial, you should have learnt how to:\n",
    "* obtain the structure of a 2D monolayer from its layered bulk counterpart\n",
    "* perform a structural relaxation to determine the equilibrium lattice constant(s)\n",
    "* perform a band structure calculation to obtain the (PBE) band gap and band structure\n",
    "* observe the convergence of these quantities as well as the total energy with vacuum spacing\n",
    "* perform a dielectric tensor calculation and extract the slab dielectric tensor\n",
    "\n",
    "Note down all these quantities; you will need them as we move on to the next tutorial: **\"Calculations of charged defects in 2D materials\"**."
   ]
  },
  {
   "cell_type": "code",
   "execution_count": null,
   "metadata": {},
   "outputs": [],
   "source": []
  }
 ],
 "metadata": {
  "kernelspec": {
   "display_name": "Python 3",
   "language": "python",
   "name": "python3"
  },
  "language_info": {
   "codemirror_mode": {
    "name": "ipython",
    "version": 3
   },
   "file_extension": ".py",
   "mimetype": "text/x-python",
   "name": "python",
   "nbconvert_exporter": "python",
   "pygments_lexer": "ipython3",
   "version": "3.7.7"
  }
 },
 "nbformat": 4,
 "nbformat_minor": 4
}
